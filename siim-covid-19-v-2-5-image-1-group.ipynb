{
 "cells": [
  {
   "cell_type": "markdown",
   "metadata": {},
   "source": [
    "# Imports"
   ]
  },
  {
   "cell_type": "code",
   "execution_count": null,
   "metadata": {
    "execution": {
     "iopub.execute_input": "2021-06-14T10:37:54.216148Z",
     "iopub.status.busy": "2021-06-14T10:37:54.215752Z",
     "iopub.status.idle": "2021-06-14T10:37:54.223879Z",
     "shell.execute_reply": "2021-06-14T10:37:54.222851Z",
     "shell.execute_reply.started": "2021-06-14T10:37:54.216113Z"
    }
   },
   "outputs": [],
   "source": [
    "import numpy as np\n",
    "import pandas as pd\n",
    "import os\n",
    "import pathlib\n",
    "from PIL import Image\n",
    "import ast\n",
    "\n",
    "import matplotlib.pyplot as plt\n",
    "%matplotlib inline"
   ]
  },
  {
   "cell_type": "markdown",
   "metadata": {},
   "source": [
    "# [OPTIONAL] Working with DICOM files"
   ]
  },
  {
   "cell_type": "code",
   "execution_count": null,
   "metadata": {
    "execution": {
     "iopub.execute_input": "2021-06-14T10:35:20.544303Z",
     "iopub.status.busy": "2021-06-14T10:35:20.543608Z",
     "iopub.status.idle": "2021-06-14T10:35:20.556121Z",
     "shell.execute_reply": "2021-06-14T10:35:20.555203Z",
     "shell.execute_reply.started": "2021-06-14T10:35:20.544261Z"
    }
   },
   "outputs": [],
   "source": [
    "# Install libraries for DICOM files\n",
    "\n",
    "# #!wget 'https://anaconda.org/conda-forge/gdcm/2.8.9/download/linux-64/gdcm-2.8.9-py37h500ead1_1.tar.bz2' -q\n",
    "# #!conda install 'gdcm-2.8.9-py37h500ead1_1.tar.bz2' -c conda-forge -y\n",
    "# !conda install -c conda-forge gdcm -y\n",
    "# !conda install -c conda-forge pydicom -y"
   ]
  },
  {
   "cell_type": "code",
   "execution_count": null,
   "metadata": {
    "execution": {
     "iopub.execute_input": "2021-06-14T10:35:20.558363Z",
     "iopub.status.busy": "2021-06-14T10:35:20.557836Z",
     "iopub.status.idle": "2021-06-14T10:35:20.565274Z",
     "shell.execute_reply": "2021-06-14T10:35:20.564423Z",
     "shell.execute_reply.started": "2021-06-14T10:35:20.558324Z"
    }
   },
   "outputs": [],
   "source": [
    "# import pydicom\n",
    "# from pydicom.pixel_data_handlers.util import apply_voi_lut"
   ]
  },
  {
   "cell_type": "code",
   "execution_count": null,
   "metadata": {
    "execution": {
     "iopub.execute_input": "2021-06-14T10:35:20.567698Z",
     "iopub.status.busy": "2021-06-14T10:35:20.567251Z",
     "iopub.status.idle": "2021-06-14T10:35:20.574178Z",
     "shell.execute_reply": "2021-06-14T10:35:20.573398Z",
     "shell.execute_reply.started": "2021-06-14T10:35:20.567661Z"
    }
   },
   "outputs": [],
   "source": [
    "# Input data files are available in the read-only \"../input/\" directory\n",
    "# For example, running this (by clicking run or pressing Shift+Enter) will list all files under the input directory\n",
    "\n",
    "# CONVERTING DICOM FILES TO NP ARRAYS PROPERLY\n",
    "# Ref : https://www.kaggle.com/raddar/convert-dicom-to-np-array-the-correct-way\n",
    "\n",
    "# def dicom2arr(path, voi_lut = True, fix_monochrome = True):\n",
    "\n",
    "#     dicom = pydicom.read_file(path)\n",
    "    \n",
    "#     # VOI LUT (if available by DICOM device) is used to transform raw DICOM data to \n",
    "#     # \"human-friendly\" view\n",
    "#     if voi_lut:\n",
    "#         arr = apply_voi_lut(dicom.pixel_array, dicom)\n",
    "#     else:\n",
    "#         arr = dicom.pixel_array\n",
    "    \n",
    "#     # depending on this value, X-ray may look inverted - fix that:\n",
    "#     if fix_monochrome and dicom.PhotometricInterpretation == \"MONOCHROME1\":\n",
    "#         arr = np.amax(arr) - arr\n",
    "        \n",
    "#     arr = arr - np.min(arr)\n",
    "#     arr = arr / np.max(arr)\n",
    "#     arr = (arr * 255).astype(np.uint8)\n",
    "        \n",
    "#     return arr"
   ]
  },
  {
   "cell_type": "markdown",
   "metadata": {},
   "source": [
    "# [OPTIONAL] Convert dcm to jpg\n",
    "I did this for two reasons:\n",
    "1. Because TF OD API explicitly states so in their docs:\n",
    "\"Dataset Requirements\n",
    "For every example in your dataset, you should have the following information: An RGB image for the dataset **encoded as jpeg or png**.\n",
    "2. Because it's easier to work with jpg's."
   ]
  },
  {
   "cell_type": "code",
   "execution_count": null,
   "metadata": {
    "execution": {
     "iopub.execute_input": "2021-06-14T10:35:20.57742Z",
     "iopub.status.busy": "2021-06-14T10:35:20.577168Z",
     "iopub.status.idle": "2021-06-14T10:35:20.582485Z",
     "shell.execute_reply": "2021-06-14T10:35:20.581662Z",
     "shell.execute_reply.started": "2021-06-14T10:35:20.577388Z"
    }
   },
   "outputs": [],
   "source": [
    "# def resize(array, size, keep_ratio=False, resample=Image.LANCZOS):\n",
    "#     # Original from: https://www.kaggle.com/xhlulu/vinbigdata-process-and-resize-to-image\n",
    "#     im = Image.fromarray(array)\n",
    "    \n",
    "#     if keep_ratio:\n",
    "#         im.thumbnail((size, size), resample)\n",
    "#     else:\n",
    "#         im = im.resize((size, size), resample)\n",
    "    \n",
    "#     return im"
   ]
  },
  {
   "cell_type": "code",
   "execution_count": null,
   "metadata": {
    "execution": {
     "iopub.execute_input": "2021-06-14T10:35:20.666054Z",
     "iopub.status.busy": "2021-06-14T10:35:20.665751Z",
     "iopub.status.idle": "2021-06-14T10:35:20.670192Z",
     "shell.execute_reply": "2021-06-14T10:35:20.669285Z",
     "shell.execute_reply.started": "2021-06-14T10:35:20.666014Z"
    }
   },
   "outputs": [],
   "source": [
    "# image_id = []\n",
    "# dim0 = []\n",
    "# dim1 = []\n",
    "# splits = []\n",
    "\n",
    "# for split in ['test', 'train']:\n",
    "#     save_dir = f'/kaggle/tmp/{split}/'\n",
    "\n",
    "#     os.makedirs(save_dir, exist_ok=True)\n",
    "    \n",
    "#     for dirname, _, filenames in os.walk(f'../input/siim-covid19-detection/{split}'):\n",
    "#         for file in filenames:\n",
    "#             # set keep_ratio=True to have original aspect ratio\n",
    "#             xray = dicom2arr(os.path.join(dirname, file))\n",
    "#             im = resize(xray, size=256)  \n",
    "#             im.save(os.path.join(save_dir, file.replace('dcm', 'jpg')))\n",
    "\n",
    "#             image_id.append(file.replace('.dcm', ''))\n",
    "#             dim0.append(xray.shape[0])\n",
    "#             dim1.append(xray.shape[1])\n",
    "#             splits.append(split)"
   ]
  },
  {
   "cell_type": "code",
   "execution_count": null,
   "metadata": {
    "execution": {
     "iopub.execute_input": "2021-06-14T10:35:20.672181Z",
     "iopub.status.busy": "2021-06-14T10:35:20.671667Z",
     "iopub.status.idle": "2021-06-14T10:35:20.682178Z",
     "shell.execute_reply": "2021-06-14T10:35:20.681321Z",
     "shell.execute_reply.started": "2021-06-14T10:35:20.672145Z"
    }
   },
   "outputs": [],
   "source": [
    "\n",
    "# for dirname, _, filenames in os.walk('../input/siim-covid19-resized-to-256px-jpg/train'):\n",
    "#     for filename in filenames:\n",
    "#         #print(dirname, filename)\n",
    "#         path = os.path.join(dirname, filename)\n",
    "#         #print(path)\n",
    "#         img= Image.open(path)  \n",
    "#         image = np.array(img)\n",
    "#         print(image)\n",
    "#         print(image.shape)\n",
    "#         img_arr = dicom2arr(path)\n",
    "#         print(img_arr)\n",
    "#         print(np.max(img_arr))\n",
    "#         print(img_arr.shape)\n",
    "#         print(type(img_arr))\n",
    "        \n"
   ]
  },
  {
   "cell_type": "markdown",
   "metadata": {},
   "source": [
    "# Install TF Object detection API"
   ]
  },
  {
   "cell_type": "code",
   "execution_count": null,
   "metadata": {
    "execution": {
     "iopub.execute_input": "2021-06-14T10:38:00.855465Z",
     "iopub.status.busy": "2021-06-14T10:38:00.85512Z",
     "iopub.status.idle": "2021-06-14T10:38:00.861003Z",
     "shell.execute_reply": "2021-06-14T10:38:00.860172Z",
     "shell.execute_reply.started": "2021-06-14T10:38:00.855436Z"
    }
   },
   "outputs": [],
   "source": [
    "# Clone the tensorflow models repository if it doesn't already exist\n",
    "if \"models\" in pathlib.Path.cwd().parts:\n",
    "    while \"models\" in pathlib.Path.cwd().parts:\n",
    "        os.chdir('..')\n",
    "elif not pathlib.Path('models').exists():\n",
    "    !git clone --depth 1 https://github.com/tensorflow/models"
   ]
  },
  {
   "cell_type": "code",
   "execution_count": null,
   "metadata": {
    "execution": {
     "iopub.execute_input": "2021-06-14T10:38:02.595654Z",
     "iopub.status.busy": "2021-06-14T10:38:02.593932Z",
     "iopub.status.idle": "2021-06-14T10:38:05.412074Z",
     "shell.execute_reply": "2021-06-14T10:38:05.410944Z",
     "shell.execute_reply.started": "2021-06-14T10:38:02.595597Z"
    }
   },
   "outputs": [],
   "source": [
    "!wget -O protobuf.zip https://github.com/google/protobuf/releases/download/v3.17.2/protoc-3.17.2-linux-x86_64.zip -q\n",
    "!unzip -o protobuf.zip\n",
    "!rm protobuf.zip"
   ]
  },
  {
   "cell_type": "code",
   "execution_count": null,
   "metadata": {
    "execution": {
     "iopub.execute_input": "2021-06-14T10:38:05.415557Z",
     "iopub.status.busy": "2021-06-14T10:38:05.415207Z",
     "iopub.status.idle": "2021-06-14T10:38:16.998183Z",
     "shell.execute_reply": "2021-06-14T10:38:16.997005Z",
     "shell.execute_reply.started": "2021-06-14T10:38:05.415525Z"
    }
   },
   "outputs": [],
   "source": [
    "%cd /kaggle/working/models/research\n",
    "!protoc object_detection/protos/*.proto --python_out=.\n",
    "!cp object_detection/packages/tf2/setup.py .\n",
    "!python -m pip install ."
   ]
  },
  {
   "cell_type": "code",
   "execution_count": null,
   "metadata": {
    "execution": {
     "iopub.execute_input": "2021-06-14T10:38:17.000303Z",
     "iopub.status.busy": "2021-06-14T10:38:16.999944Z",
     "iopub.status.idle": "2021-06-14T10:38:50.891495Z",
     "shell.execute_reply": "2021-06-14T10:38:50.890531Z",
     "shell.execute_reply.started": "2021-06-14T10:38:17.00027Z"
    }
   },
   "outputs": [],
   "source": [
    "#run model builder test\n",
    "!python object_detection/builders/model_builder_tf2_test.py"
   ]
  },
  {
   "cell_type": "code",
   "execution_count": null,
   "metadata": {
    "execution": {
     "iopub.execute_input": "2021-06-14T10:38:50.893657Z",
     "iopub.status.busy": "2021-06-14T10:38:50.893325Z",
     "iopub.status.idle": "2021-06-14T10:38:50.897968Z",
     "shell.execute_reply": "2021-06-14T10:38:50.897155Z",
     "shell.execute_reply.started": "2021-06-14T10:38:50.893628Z"
    }
   },
   "outputs": [],
   "source": [
    "import tensorflow as tf\n",
    "from object_detection.utils import ops as utils_ops\n",
    "from object_detection.utils import label_map_util\n",
    "from object_detection.utils import visualization_utils as vis_util\n",
    "\n",
    "# The following two imports are for creating TFRecord files\n",
    "from object_detection.utils import dataset_util\n",
    "from object_detection.dataset_tools import tf_record_creation_util"
   ]
  },
  {
   "cell_type": "markdown",
   "metadata": {},
   "source": [
    "# Create annotations"
   ]
  },
  {
   "cell_type": "code",
   "execution_count": null,
   "metadata": {
    "execution": {
     "iopub.execute_input": "2021-06-14T10:38:50.899936Z",
     "iopub.status.busy": "2021-06-14T10:38:50.899433Z",
     "iopub.status.idle": "2021-06-14T10:38:51.561891Z",
     "shell.execute_reply": "2021-06-14T10:38:51.560961Z",
     "shell.execute_reply.started": "2021-06-14T10:38:50.8999Z"
    }
   },
   "outputs": [],
   "source": [
    "!mkdir /kaggle/working/Annotations\n",
    "%cd /kaggle/working/"
   ]
  },
  {
   "cell_type": "code",
   "execution_count": null,
   "metadata": {
    "execution": {
     "iopub.execute_input": "2021-06-14T10:38:51.565157Z",
     "iopub.status.busy": "2021-06-14T10:38:51.564859Z",
     "iopub.status.idle": "2021-06-14T10:38:51.572668Z",
     "shell.execute_reply": "2021-06-14T10:38:51.571682Z",
     "shell.execute_reply.started": "2021-06-14T10:38:51.565127Z"
    }
   },
   "outputs": [],
   "source": [
    "%%writefile Annotations/label_map.pbtxt\n",
    "item {\n",
    "    id: 1\n",
    "    name: 'negative for pneumonia'\n",
    "}\n",
    "\n",
    "item {\n",
    "    id: 2\n",
    "    name: 'typical'\n",
    "}\n",
    "\n",
    "item {\n",
    "    id: 3\n",
    "    name: 'indeterminate'\n",
    "}\n",
    "\n",
    "item {\n",
    "    id: 4\n",
    "    name: 'atypical'\n",
    "}"
   ]
  },
  {
   "cell_type": "markdown",
   "metadata": {},
   "source": [
    "# Working with bboxes and labels"
   ]
  },
  {
   "cell_type": "code",
   "execution_count": 1,
   "metadata": {
    "execution": {
     "iopub.execute_input": "2021-06-14T16:53:21.659864Z",
     "iopub.status.busy": "2021-06-14T16:53:21.659127Z",
     "iopub.status.idle": "2021-06-14T16:53:22.469687Z",
     "shell.execute_reply": "2021-06-14T16:53:22.468604Z",
     "shell.execute_reply.started": "2021-06-14T16:53:21.659774Z"
    }
   },
   "outputs": [
    {
     "name": "stdout",
     "output_type": "stream",
     "text": [
      "/kaggle/working\n"
     ]
    }
   ],
   "source": [
    "import pandas as pd\n",
    "!pwd\n",
    "path = '../input/siim-covid19-detection/'\n",
    "train_image = pd.read_csv(path+'train_image_level.csv')\n",
    "train_study = pd.read_csv(path+'train_study_level.csv')\n",
    "sample_submission = pd.read_csv(path+'sample_submission.csv')"
   ]
  },
  {
   "cell_type": "code",
   "execution_count": 2,
   "metadata": {
    "execution": {
     "iopub.execute_input": "2021-06-14T16:53:28.222036Z",
     "iopub.status.busy": "2021-06-14T16:53:28.221673Z",
     "iopub.status.idle": "2021-06-14T16:53:28.227438Z",
     "shell.execute_reply": "2021-06-14T16:53:28.226182Z",
     "shell.execute_reply.started": "2021-06-14T16:53:28.222001Z"
    }
   },
   "outputs": [
    {
     "name": "stdout",
     "output_type": "stream",
     "text": [
      "6334\n",
      "6054\n"
     ]
    }
   ],
   "source": [
    "print(len(train_image))\n",
    "print(len(train_study))"
   ]
  },
  {
   "cell_type": "markdown",
   "metadata": {},
   "source": [
    "NOTES: \n",
    "* Some of the values in the **StudyInstanceUID** column in **train_image** are related (point) to several images - therefore there are 6334 images but only 6054 StudyInstanceUID's. (Does it mean that multiple images have identical bboxes and labels and this was done just to save time and space for identical boxes/labels?)\n",
    "* **StudyInstanceUID** column in **train_image** are identical to the **id** column in **train_study** (but without the _study suffix)"
   ]
  },
  {
   "cell_type": "code",
   "execution_count": 3,
   "metadata": {
    "execution": {
     "iopub.execute_input": "2021-06-14T16:53:33.357295Z",
     "iopub.status.busy": "2021-06-14T16:53:33.356955Z",
     "iopub.status.idle": "2021-06-14T16:53:33.383203Z",
     "shell.execute_reply": "2021-06-14T16:53:33.382638Z",
     "shell.execute_reply.started": "2021-06-14T16:53:33.357265Z"
    }
   },
   "outputs": [
    {
     "data": {
      "text/html": [
       "<div>\n",
       "<style scoped>\n",
       "    .dataframe tbody tr th:only-of-type {\n",
       "        vertical-align: middle;\n",
       "    }\n",
       "\n",
       "    .dataframe tbody tr th {\n",
       "        vertical-align: top;\n",
       "    }\n",
       "\n",
       "    .dataframe thead th {\n",
       "        text-align: right;\n",
       "    }\n",
       "</style>\n",
       "<table border=\"1\" class=\"dataframe\">\n",
       "  <thead>\n",
       "    <tr style=\"text-align: right;\">\n",
       "      <th></th>\n",
       "      <th>id</th>\n",
       "      <th>Negative for Pneumonia</th>\n",
       "      <th>Typical Appearance</th>\n",
       "      <th>Indeterminate Appearance</th>\n",
       "      <th>Atypical Appearance</th>\n",
       "    </tr>\n",
       "  </thead>\n",
       "  <tbody>\n",
       "    <tr>\n",
       "      <th>0</th>\n",
       "      <td>00086460a852_study</td>\n",
       "      <td>0</td>\n",
       "      <td>1</td>\n",
       "      <td>0</td>\n",
       "      <td>0</td>\n",
       "    </tr>\n",
       "    <tr>\n",
       "      <th>1</th>\n",
       "      <td>000c9c05fd14_study</td>\n",
       "      <td>0</td>\n",
       "      <td>0</td>\n",
       "      <td>0</td>\n",
       "      <td>1</td>\n",
       "    </tr>\n",
       "    <tr>\n",
       "      <th>2</th>\n",
       "      <td>00292f8c37bd_study</td>\n",
       "      <td>1</td>\n",
       "      <td>0</td>\n",
       "      <td>0</td>\n",
       "      <td>0</td>\n",
       "    </tr>\n",
       "    <tr>\n",
       "      <th>3</th>\n",
       "      <td>005057b3f880_study</td>\n",
       "      <td>1</td>\n",
       "      <td>0</td>\n",
       "      <td>0</td>\n",
       "      <td>0</td>\n",
       "    </tr>\n",
       "    <tr>\n",
       "      <th>4</th>\n",
       "      <td>0051d9b12e72_study</td>\n",
       "      <td>0</td>\n",
       "      <td>0</td>\n",
       "      <td>0</td>\n",
       "      <td>1</td>\n",
       "    </tr>\n",
       "  </tbody>\n",
       "</table>\n",
       "</div>"
      ],
      "text/plain": [
       "                   id  Negative for Pneumonia  Typical Appearance  \\\n",
       "0  00086460a852_study                       0                   1   \n",
       "1  000c9c05fd14_study                       0                   0   \n",
       "2  00292f8c37bd_study                       1                   0   \n",
       "3  005057b3f880_study                       1                   0   \n",
       "4  0051d9b12e72_study                       0                   0   \n",
       "\n",
       "   Indeterminate Appearance  Atypical Appearance  \n",
       "0                         0                    0  \n",
       "1                         0                    1  \n",
       "2                         0                    0  \n",
       "3                         0                    0  \n",
       "4                         0                    1  "
      ]
     },
     "execution_count": 3,
     "metadata": {},
     "output_type": "execute_result"
    }
   ],
   "source": [
    "train_study.head()"
   ]
  },
  {
   "cell_type": "code",
   "execution_count": 4,
   "metadata": {
    "execution": {
     "iopub.execute_input": "2021-06-14T16:53:56.088361Z",
     "iopub.status.busy": "2021-06-14T16:53:56.088013Z",
     "iopub.status.idle": "2021-06-14T16:53:56.103730Z",
     "shell.execute_reply": "2021-06-14T16:53:56.103002Z",
     "shell.execute_reply.started": "2021-06-14T16:53:56.088334Z"
    }
   },
   "outputs": [],
   "source": [
    "train_study['id'] = train_study['id'].str.replace('_study', '')\n"
   ]
  },
  {
   "cell_type": "code",
   "execution_count": 5,
   "metadata": {
    "execution": {
     "iopub.execute_input": "2021-06-14T16:54:05.208895Z",
     "iopub.status.busy": "2021-06-14T16:54:05.208524Z",
     "iopub.status.idle": "2021-06-14T16:54:05.219752Z",
     "shell.execute_reply": "2021-06-14T16:54:05.218717Z",
     "shell.execute_reply.started": "2021-06-14T16:54:05.208866Z"
    }
   },
   "outputs": [
    {
     "data": {
      "text/html": [
       "<div>\n",
       "<style scoped>\n",
       "    .dataframe tbody tr th:only-of-type {\n",
       "        vertical-align: middle;\n",
       "    }\n",
       "\n",
       "    .dataframe tbody tr th {\n",
       "        vertical-align: top;\n",
       "    }\n",
       "\n",
       "    .dataframe thead th {\n",
       "        text-align: right;\n",
       "    }\n",
       "</style>\n",
       "<table border=\"1\" class=\"dataframe\">\n",
       "  <thead>\n",
       "    <tr style=\"text-align: right;\">\n",
       "      <th></th>\n",
       "      <th>id</th>\n",
       "      <th>Negative for Pneumonia</th>\n",
       "      <th>Typical Appearance</th>\n",
       "      <th>Indeterminate Appearance</th>\n",
       "      <th>Atypical Appearance</th>\n",
       "    </tr>\n",
       "  </thead>\n",
       "  <tbody>\n",
       "    <tr>\n",
       "      <th>0</th>\n",
       "      <td>00086460a852</td>\n",
       "      <td>0</td>\n",
       "      <td>1</td>\n",
       "      <td>0</td>\n",
       "      <td>0</td>\n",
       "    </tr>\n",
       "    <tr>\n",
       "      <th>1</th>\n",
       "      <td>000c9c05fd14</td>\n",
       "      <td>0</td>\n",
       "      <td>0</td>\n",
       "      <td>0</td>\n",
       "      <td>1</td>\n",
       "    </tr>\n",
       "    <tr>\n",
       "      <th>2</th>\n",
       "      <td>00292f8c37bd</td>\n",
       "      <td>1</td>\n",
       "      <td>0</td>\n",
       "      <td>0</td>\n",
       "      <td>0</td>\n",
       "    </tr>\n",
       "    <tr>\n",
       "      <th>3</th>\n",
       "      <td>005057b3f880</td>\n",
       "      <td>1</td>\n",
       "      <td>0</td>\n",
       "      <td>0</td>\n",
       "      <td>0</td>\n",
       "    </tr>\n",
       "    <tr>\n",
       "      <th>4</th>\n",
       "      <td>0051d9b12e72</td>\n",
       "      <td>0</td>\n",
       "      <td>0</td>\n",
       "      <td>0</td>\n",
       "      <td>1</td>\n",
       "    </tr>\n",
       "  </tbody>\n",
       "</table>\n",
       "</div>"
      ],
      "text/plain": [
       "             id  Negative for Pneumonia  Typical Appearance  \\\n",
       "0  00086460a852                       0                   1   \n",
       "1  000c9c05fd14                       0                   0   \n",
       "2  00292f8c37bd                       1                   0   \n",
       "3  005057b3f880                       1                   0   \n",
       "4  0051d9b12e72                       0                   0   \n",
       "\n",
       "   Indeterminate Appearance  Atypical Appearance  \n",
       "0                         0                    0  \n",
       "1                         0                    1  \n",
       "2                         0                    0  \n",
       "3                         0                    0  \n",
       "4                         0                    1  "
      ]
     },
     "execution_count": 5,
     "metadata": {},
     "output_type": "execute_result"
    }
   ],
   "source": [
    "train_study.head()"
   ]
  },
  {
   "cell_type": "code",
   "execution_count": 6,
   "metadata": {
    "execution": {
     "iopub.execute_input": "2021-06-14T16:54:16.819003Z",
     "iopub.status.busy": "2021-06-14T16:54:16.818635Z",
     "iopub.status.idle": "2021-06-14T16:54:16.824252Z",
     "shell.execute_reply": "2021-06-14T16:54:16.823258Z",
     "shell.execute_reply.started": "2021-06-14T16:54:16.818973Z"
    }
   },
   "outputs": [],
   "source": [
    "train_study.rename(columns={'id': 'StudyInstanceUID'}, inplace=True)"
   ]
  },
  {
   "cell_type": "code",
   "execution_count": 7,
   "metadata": {
    "execution": {
     "iopub.execute_input": "2021-06-14T16:54:20.388816Z",
     "iopub.status.busy": "2021-06-14T16:54:20.388475Z",
     "iopub.status.idle": "2021-06-14T16:54:20.399298Z",
     "shell.execute_reply": "2021-06-14T16:54:20.398351Z",
     "shell.execute_reply.started": "2021-06-14T16:54:20.388789Z"
    }
   },
   "outputs": [
    {
     "data": {
      "text/html": [
       "<div>\n",
       "<style scoped>\n",
       "    .dataframe tbody tr th:only-of-type {\n",
       "        vertical-align: middle;\n",
       "    }\n",
       "\n",
       "    .dataframe tbody tr th {\n",
       "        vertical-align: top;\n",
       "    }\n",
       "\n",
       "    .dataframe thead th {\n",
       "        text-align: right;\n",
       "    }\n",
       "</style>\n",
       "<table border=\"1\" class=\"dataframe\">\n",
       "  <thead>\n",
       "    <tr style=\"text-align: right;\">\n",
       "      <th></th>\n",
       "      <th>StudyInstanceUID</th>\n",
       "      <th>Negative for Pneumonia</th>\n",
       "      <th>Typical Appearance</th>\n",
       "      <th>Indeterminate Appearance</th>\n",
       "      <th>Atypical Appearance</th>\n",
       "    </tr>\n",
       "  </thead>\n",
       "  <tbody>\n",
       "    <tr>\n",
       "      <th>0</th>\n",
       "      <td>00086460a852</td>\n",
       "      <td>0</td>\n",
       "      <td>1</td>\n",
       "      <td>0</td>\n",
       "      <td>0</td>\n",
       "    </tr>\n",
       "    <tr>\n",
       "      <th>1</th>\n",
       "      <td>000c9c05fd14</td>\n",
       "      <td>0</td>\n",
       "      <td>0</td>\n",
       "      <td>0</td>\n",
       "      <td>1</td>\n",
       "    </tr>\n",
       "    <tr>\n",
       "      <th>2</th>\n",
       "      <td>00292f8c37bd</td>\n",
       "      <td>1</td>\n",
       "      <td>0</td>\n",
       "      <td>0</td>\n",
       "      <td>0</td>\n",
       "    </tr>\n",
       "    <tr>\n",
       "      <th>3</th>\n",
       "      <td>005057b3f880</td>\n",
       "      <td>1</td>\n",
       "      <td>0</td>\n",
       "      <td>0</td>\n",
       "      <td>0</td>\n",
       "    </tr>\n",
       "    <tr>\n",
       "      <th>4</th>\n",
       "      <td>0051d9b12e72</td>\n",
       "      <td>0</td>\n",
       "      <td>0</td>\n",
       "      <td>0</td>\n",
       "      <td>1</td>\n",
       "    </tr>\n",
       "  </tbody>\n",
       "</table>\n",
       "</div>"
      ],
      "text/plain": [
       "  StudyInstanceUID  Negative for Pneumonia  Typical Appearance  \\\n",
       "0     00086460a852                       0                   1   \n",
       "1     000c9c05fd14                       0                   0   \n",
       "2     00292f8c37bd                       1                   0   \n",
       "3     005057b3f880                       1                   0   \n",
       "4     0051d9b12e72                       0                   0   \n",
       "\n",
       "   Indeterminate Appearance  Atypical Appearance  \n",
       "0                         0                    0  \n",
       "1                         0                    1  \n",
       "2                         0                    0  \n",
       "3                         0                    0  \n",
       "4                         0                    1  "
      ]
     },
     "execution_count": 7,
     "metadata": {},
     "output_type": "execute_result"
    }
   ],
   "source": [
    "train_study.head()"
   ]
  },
  {
   "cell_type": "code",
   "execution_count": null,
   "metadata": {
    "execution": {
     "iopub.execute_input": "2021-06-14T10:38:52.303895Z",
     "iopub.status.busy": "2021-06-14T10:38:52.30356Z",
     "iopub.status.idle": "2021-06-14T10:38:52.326963Z",
     "shell.execute_reply": "2021-06-14T10:38:52.325858Z",
     "shell.execute_reply.started": "2021-06-14T10:38:52.30386Z"
    }
   },
   "outputs": [],
   "source": [
    "train_image.info()\n",
    "print('\\n')\n",
    "train_study.info()"
   ]
  },
  {
   "cell_type": "code",
   "execution_count": 8,
   "metadata": {
    "execution": {
     "iopub.execute_input": "2021-06-14T16:54:28.619236Z",
     "iopub.status.busy": "2021-06-14T16:54:28.618890Z",
     "iopub.status.idle": "2021-06-14T16:54:28.641375Z",
     "shell.execute_reply": "2021-06-14T16:54:28.640208Z",
     "shell.execute_reply.started": "2021-06-14T16:54:28.619205Z"
    }
   },
   "outputs": [],
   "source": [
    "train_result = train_image.merge(train_study, on='StudyInstanceUID', how='left')"
   ]
  },
  {
   "cell_type": "code",
   "execution_count": 10,
   "metadata": {
    "execution": {
     "iopub.execute_input": "2021-06-14T16:54:42.762867Z",
     "iopub.status.busy": "2021-06-14T16:54:42.762321Z",
     "iopub.status.idle": "2021-06-14T16:54:42.776020Z",
     "shell.execute_reply": "2021-06-14T16:54:42.775135Z",
     "shell.execute_reply.started": "2021-06-14T16:54:42.762829Z"
    }
   },
   "outputs": [
    {
     "data": {
      "text/html": [
       "<div>\n",
       "<style scoped>\n",
       "    .dataframe tbody tr th:only-of-type {\n",
       "        vertical-align: middle;\n",
       "    }\n",
       "\n",
       "    .dataframe tbody tr th {\n",
       "        vertical-align: top;\n",
       "    }\n",
       "\n",
       "    .dataframe thead th {\n",
       "        text-align: right;\n",
       "    }\n",
       "</style>\n",
       "<table border=\"1\" class=\"dataframe\">\n",
       "  <thead>\n",
       "    <tr style=\"text-align: right;\">\n",
       "      <th></th>\n",
       "      <th>id</th>\n",
       "      <th>boxes</th>\n",
       "      <th>label</th>\n",
       "      <th>StudyInstanceUID</th>\n",
       "      <th>Negative for Pneumonia</th>\n",
       "      <th>Typical Appearance</th>\n",
       "      <th>Indeterminate Appearance</th>\n",
       "      <th>Atypical Appearance</th>\n",
       "    </tr>\n",
       "  </thead>\n",
       "  <tbody>\n",
       "    <tr>\n",
       "      <th>0</th>\n",
       "      <td>000a312787f2_image</td>\n",
       "      <td>[{'x': 789.28836, 'y': 582.43035, 'width': 102...</td>\n",
       "      <td>opacity 1 789.28836 582.43035 1815.94498 2499....</td>\n",
       "      <td>5776db0cec75</td>\n",
       "      <td>0</td>\n",
       "      <td>1</td>\n",
       "      <td>0</td>\n",
       "      <td>0</td>\n",
       "    </tr>\n",
       "    <tr>\n",
       "      <th>1</th>\n",
       "      <td>000c3a3f293f_image</td>\n",
       "      <td>NaN</td>\n",
       "      <td>none 1 0 0 1 1</td>\n",
       "      <td>ff0879eb20ed</td>\n",
       "      <td>1</td>\n",
       "      <td>0</td>\n",
       "      <td>0</td>\n",
       "      <td>0</td>\n",
       "    </tr>\n",
       "    <tr>\n",
       "      <th>2</th>\n",
       "      <td>0012ff7358bc_image</td>\n",
       "      <td>[{'x': 677.42216, 'y': 197.97662, 'width': 867...</td>\n",
       "      <td>opacity 1 677.42216 197.97662 1545.21983 1197....</td>\n",
       "      <td>9d514ce429a7</td>\n",
       "      <td>0</td>\n",
       "      <td>1</td>\n",
       "      <td>0</td>\n",
       "      <td>0</td>\n",
       "    </tr>\n",
       "    <tr>\n",
       "      <th>3</th>\n",
       "      <td>001398f4ff4f_image</td>\n",
       "      <td>[{'x': 2729, 'y': 2181.33331, 'width': 948.000...</td>\n",
       "      <td>opacity 1 2729 2181.33331 3677.00012 2785.33331</td>\n",
       "      <td>28dddc8559b2</td>\n",
       "      <td>0</td>\n",
       "      <td>0</td>\n",
       "      <td>0</td>\n",
       "      <td>1</td>\n",
       "    </tr>\n",
       "    <tr>\n",
       "      <th>4</th>\n",
       "      <td>001bd15d1891_image</td>\n",
       "      <td>[{'x': 623.23328, 'y': 1050, 'width': 714, 'he...</td>\n",
       "      <td>opacity 1 623.23328 1050 1337.23328 2156 opaci...</td>\n",
       "      <td>dfd9fdd85a3e</td>\n",
       "      <td>0</td>\n",
       "      <td>1</td>\n",
       "      <td>0</td>\n",
       "      <td>0</td>\n",
       "    </tr>\n",
       "  </tbody>\n",
       "</table>\n",
       "</div>"
      ],
      "text/plain": [
       "                   id                                              boxes  \\\n",
       "0  000a312787f2_image  [{'x': 789.28836, 'y': 582.43035, 'width': 102...   \n",
       "1  000c3a3f293f_image                                                NaN   \n",
       "2  0012ff7358bc_image  [{'x': 677.42216, 'y': 197.97662, 'width': 867...   \n",
       "3  001398f4ff4f_image  [{'x': 2729, 'y': 2181.33331, 'width': 948.000...   \n",
       "4  001bd15d1891_image  [{'x': 623.23328, 'y': 1050, 'width': 714, 'he...   \n",
       "\n",
       "                                               label StudyInstanceUID  \\\n",
       "0  opacity 1 789.28836 582.43035 1815.94498 2499....     5776db0cec75   \n",
       "1                                     none 1 0 0 1 1     ff0879eb20ed   \n",
       "2  opacity 1 677.42216 197.97662 1545.21983 1197....     9d514ce429a7   \n",
       "3    opacity 1 2729 2181.33331 3677.00012 2785.33331     28dddc8559b2   \n",
       "4  opacity 1 623.23328 1050 1337.23328 2156 opaci...     dfd9fdd85a3e   \n",
       "\n",
       "   Negative for Pneumonia  Typical Appearance  Indeterminate Appearance  \\\n",
       "0                       0                   1                         0   \n",
       "1                       1                   0                         0   \n",
       "2                       0                   1                         0   \n",
       "3                       0                   0                         0   \n",
       "4                       0                   1                         0   \n",
       "\n",
       "   Atypical Appearance  \n",
       "0                    0  \n",
       "1                    0  \n",
       "2                    0  \n",
       "3                    1  \n",
       "4                    0  "
      ]
     },
     "execution_count": 10,
     "metadata": {},
     "output_type": "execute_result"
    }
   ],
   "source": [
    "train_result.head()"
   ]
  },
  {
   "cell_type": "code",
   "execution_count": null,
   "metadata": {
    "execution": {
     "iopub.execute_input": "2021-06-14T10:38:52.344754Z",
     "iopub.status.busy": "2021-06-14T10:38:52.344094Z",
     "iopub.status.idle": "2021-06-14T10:38:52.368255Z",
     "shell.execute_reply": "2021-06-14T10:38:52.367295Z",
     "shell.execute_reply.started": "2021-06-14T10:38:52.344699Z"
    }
   },
   "outputs": [],
   "source": [
    "train_result.describe()"
   ]
  },
  {
   "cell_type": "code",
   "execution_count": 11,
   "metadata": {
    "execution": {
     "iopub.execute_input": "2021-06-14T16:54:56.263663Z",
     "iopub.status.busy": "2021-06-14T16:54:56.263124Z",
     "iopub.status.idle": "2021-06-14T16:54:56.275433Z",
     "shell.execute_reply": "2021-06-14T16:54:56.274682Z",
     "shell.execute_reply.started": "2021-06-14T16:54:56.263601Z"
    }
   },
   "outputs": [],
   "source": [
    "train_result['id'] = train_result['id'].str.replace('_image', '')"
   ]
  },
  {
   "cell_type": "code",
   "execution_count": 12,
   "metadata": {
    "execution": {
     "iopub.execute_input": "2021-06-14T16:55:17.320775Z",
     "iopub.status.busy": "2021-06-14T16:55:17.320219Z",
     "iopub.status.idle": "2021-06-14T16:55:17.346695Z",
     "shell.execute_reply": "2021-06-14T16:55:17.345786Z",
     "shell.execute_reply.started": "2021-06-14T16:55:17.320728Z"
    }
   },
   "outputs": [],
   "source": [
    "original_dims = pd.read_csv('../input/siim-covid19-resized-to-256px-jpg/meta.csv')"
   ]
  },
  {
   "cell_type": "code",
   "execution_count": 13,
   "metadata": {
    "execution": {
     "iopub.execute_input": "2021-06-14T16:55:20.228870Z",
     "iopub.status.busy": "2021-06-14T16:55:20.228506Z",
     "iopub.status.idle": "2021-06-14T16:55:20.239528Z",
     "shell.execute_reply": "2021-06-14T16:55:20.238483Z",
     "shell.execute_reply.started": "2021-06-14T16:55:20.228840Z"
    }
   },
   "outputs": [
    {
     "data": {
      "text/html": [
       "<div>\n",
       "<style scoped>\n",
       "    .dataframe tbody tr th:only-of-type {\n",
       "        vertical-align: middle;\n",
       "    }\n",
       "\n",
       "    .dataframe tbody tr th {\n",
       "        vertical-align: top;\n",
       "    }\n",
       "\n",
       "    .dataframe thead th {\n",
       "        text-align: right;\n",
       "    }\n",
       "</style>\n",
       "<table border=\"1\" class=\"dataframe\">\n",
       "  <thead>\n",
       "    <tr style=\"text-align: right;\">\n",
       "      <th></th>\n",
       "      <th>image_id</th>\n",
       "      <th>dim0</th>\n",
       "      <th>dim1</th>\n",
       "      <th>split</th>\n",
       "    </tr>\n",
       "  </thead>\n",
       "  <tbody>\n",
       "    <tr>\n",
       "      <th>0</th>\n",
       "      <td>a29c5a68b07b</td>\n",
       "      <td>2320</td>\n",
       "      <td>2828</td>\n",
       "      <td>test</td>\n",
       "    </tr>\n",
       "    <tr>\n",
       "      <th>1</th>\n",
       "      <td>9850b5470fd6</td>\n",
       "      <td>2330</td>\n",
       "      <td>2382</td>\n",
       "      <td>test</td>\n",
       "    </tr>\n",
       "    <tr>\n",
       "      <th>2</th>\n",
       "      <td>8d6dea06a032</td>\n",
       "      <td>2422</td>\n",
       "      <td>3344</td>\n",
       "      <td>test</td>\n",
       "    </tr>\n",
       "    <tr>\n",
       "      <th>3</th>\n",
       "      <td>dfc5c09a50bc</td>\n",
       "      <td>1140</td>\n",
       "      <td>1387</td>\n",
       "      <td>test</td>\n",
       "    </tr>\n",
       "    <tr>\n",
       "      <th>4</th>\n",
       "      <td>7230234e120a</td>\n",
       "      <td>2318</td>\n",
       "      <td>2383</td>\n",
       "      <td>test</td>\n",
       "    </tr>\n",
       "  </tbody>\n",
       "</table>\n",
       "</div>"
      ],
      "text/plain": [
       "       image_id  dim0  dim1 split\n",
       "0  a29c5a68b07b  2320  2828  test\n",
       "1  9850b5470fd6  2330  2382  test\n",
       "2  8d6dea06a032  2422  3344  test\n",
       "3  dfc5c09a50bc  1140  1387  test\n",
       "4  7230234e120a  2318  2383  test"
      ]
     },
     "execution_count": 13,
     "metadata": {},
     "output_type": "execute_result"
    }
   ],
   "source": [
    "original_dims.head()"
   ]
  },
  {
   "cell_type": "code",
   "execution_count": 14,
   "metadata": {
    "execution": {
     "iopub.execute_input": "2021-06-14T16:55:49.939273Z",
     "iopub.status.busy": "2021-06-14T16:55:49.938919Z",
     "iopub.status.idle": "2021-06-14T16:55:49.944796Z",
     "shell.execute_reply": "2021-06-14T16:55:49.943540Z",
     "shell.execute_reply.started": "2021-06-14T16:55:49.939245Z"
    }
   },
   "outputs": [],
   "source": [
    "original_dims.rename(columns={'image_id': 'id'}, inplace=True)"
   ]
  },
  {
   "cell_type": "code",
   "execution_count": 15,
   "metadata": {
    "execution": {
     "iopub.execute_input": "2021-06-14T16:55:51.932666Z",
     "iopub.status.busy": "2021-06-14T16:55:51.932301Z",
     "iopub.status.idle": "2021-06-14T16:55:51.945943Z",
     "shell.execute_reply": "2021-06-14T16:55:51.944920Z",
     "shell.execute_reply.started": "2021-06-14T16:55:51.932636Z"
    }
   },
   "outputs": [],
   "source": [
    "train_result_final = train_result.merge(original_dims, on='id', how='left')"
   ]
  },
  {
   "cell_type": "code",
   "execution_count": 17,
   "metadata": {
    "execution": {
     "iopub.execute_input": "2021-06-14T16:56:15.661123Z",
     "iopub.status.busy": "2021-06-14T16:56:15.660781Z",
     "iopub.status.idle": "2021-06-14T16:56:15.678737Z",
     "shell.execute_reply": "2021-06-14T16:56:15.677795Z",
     "shell.execute_reply.started": "2021-06-14T16:56:15.661098Z"
    }
   },
   "outputs": [
    {
     "data": {
      "text/html": [
       "<div>\n",
       "<style scoped>\n",
       "    .dataframe tbody tr th:only-of-type {\n",
       "        vertical-align: middle;\n",
       "    }\n",
       "\n",
       "    .dataframe tbody tr th {\n",
       "        vertical-align: top;\n",
       "    }\n",
       "\n",
       "    .dataframe thead th {\n",
       "        text-align: right;\n",
       "    }\n",
       "</style>\n",
       "<table border=\"1\" class=\"dataframe\">\n",
       "  <thead>\n",
       "    <tr style=\"text-align: right;\">\n",
       "      <th></th>\n",
       "      <th>id</th>\n",
       "      <th>boxes</th>\n",
       "      <th>label</th>\n",
       "      <th>StudyInstanceUID</th>\n",
       "      <th>Negative for Pneumonia</th>\n",
       "      <th>Typical Appearance</th>\n",
       "      <th>Indeterminate Appearance</th>\n",
       "      <th>Atypical Appearance</th>\n",
       "      <th>dim0</th>\n",
       "      <th>dim1</th>\n",
       "      <th>split</th>\n",
       "    </tr>\n",
       "  </thead>\n",
       "  <tbody>\n",
       "    <tr>\n",
       "      <th>0</th>\n",
       "      <td>000a312787f2</td>\n",
       "      <td>[{'x': 789.28836, 'y': 582.43035, 'width': 102...</td>\n",
       "      <td>opacity 1 789.28836 582.43035 1815.94498 2499....</td>\n",
       "      <td>5776db0cec75</td>\n",
       "      <td>0</td>\n",
       "      <td>1</td>\n",
       "      <td>0</td>\n",
       "      <td>0</td>\n",
       "      <td>3488</td>\n",
       "      <td>4256</td>\n",
       "      <td>train</td>\n",
       "    </tr>\n",
       "    <tr>\n",
       "      <th>1</th>\n",
       "      <td>000c3a3f293f</td>\n",
       "      <td>NaN</td>\n",
       "      <td>none 1 0 0 1 1</td>\n",
       "      <td>ff0879eb20ed</td>\n",
       "      <td>1</td>\n",
       "      <td>0</td>\n",
       "      <td>0</td>\n",
       "      <td>0</td>\n",
       "      <td>2320</td>\n",
       "      <td>2832</td>\n",
       "      <td>train</td>\n",
       "    </tr>\n",
       "    <tr>\n",
       "      <th>2</th>\n",
       "      <td>0012ff7358bc</td>\n",
       "      <td>[{'x': 677.42216, 'y': 197.97662, 'width': 867...</td>\n",
       "      <td>opacity 1 677.42216 197.97662 1545.21983 1197....</td>\n",
       "      <td>9d514ce429a7</td>\n",
       "      <td>0</td>\n",
       "      <td>1</td>\n",
       "      <td>0</td>\n",
       "      <td>0</td>\n",
       "      <td>2544</td>\n",
       "      <td>3056</td>\n",
       "      <td>train</td>\n",
       "    </tr>\n",
       "    <tr>\n",
       "      <th>3</th>\n",
       "      <td>001398f4ff4f</td>\n",
       "      <td>[{'x': 2729, 'y': 2181.33331, 'width': 948.000...</td>\n",
       "      <td>opacity 1 2729 2181.33331 3677.00012 2785.33331</td>\n",
       "      <td>28dddc8559b2</td>\n",
       "      <td>0</td>\n",
       "      <td>0</td>\n",
       "      <td>0</td>\n",
       "      <td>1</td>\n",
       "      <td>3520</td>\n",
       "      <td>4280</td>\n",
       "      <td>train</td>\n",
       "    </tr>\n",
       "    <tr>\n",
       "      <th>4</th>\n",
       "      <td>001bd15d1891</td>\n",
       "      <td>[{'x': 623.23328, 'y': 1050, 'width': 714, 'he...</td>\n",
       "      <td>opacity 1 623.23328 1050 1337.23328 2156 opaci...</td>\n",
       "      <td>dfd9fdd85a3e</td>\n",
       "      <td>0</td>\n",
       "      <td>1</td>\n",
       "      <td>0</td>\n",
       "      <td>0</td>\n",
       "      <td>2800</td>\n",
       "      <td>3408</td>\n",
       "      <td>train</td>\n",
       "    </tr>\n",
       "  </tbody>\n",
       "</table>\n",
       "</div>"
      ],
      "text/plain": [
       "             id                                              boxes  \\\n",
       "0  000a312787f2  [{'x': 789.28836, 'y': 582.43035, 'width': 102...   \n",
       "1  000c3a3f293f                                                NaN   \n",
       "2  0012ff7358bc  [{'x': 677.42216, 'y': 197.97662, 'width': 867...   \n",
       "3  001398f4ff4f  [{'x': 2729, 'y': 2181.33331, 'width': 948.000...   \n",
       "4  001bd15d1891  [{'x': 623.23328, 'y': 1050, 'width': 714, 'he...   \n",
       "\n",
       "                                               label StudyInstanceUID  \\\n",
       "0  opacity 1 789.28836 582.43035 1815.94498 2499....     5776db0cec75   \n",
       "1                                     none 1 0 0 1 1     ff0879eb20ed   \n",
       "2  opacity 1 677.42216 197.97662 1545.21983 1197....     9d514ce429a7   \n",
       "3    opacity 1 2729 2181.33331 3677.00012 2785.33331     28dddc8559b2   \n",
       "4  opacity 1 623.23328 1050 1337.23328 2156 opaci...     dfd9fdd85a3e   \n",
       "\n",
       "   Negative for Pneumonia  Typical Appearance  Indeterminate Appearance  \\\n",
       "0                       0                   1                         0   \n",
       "1                       1                   0                         0   \n",
       "2                       0                   1                         0   \n",
       "3                       0                   0                         0   \n",
       "4                       0                   1                         0   \n",
       "\n",
       "   Atypical Appearance  dim0  dim1  split  \n",
       "0                    0  3488  4256  train  \n",
       "1                    0  2320  2832  train  \n",
       "2                    0  2544  3056  train  \n",
       "3                    1  3520  4280  train  \n",
       "4                    0  2800  3408  train  "
      ]
     },
     "execution_count": 17,
     "metadata": {},
     "output_type": "execute_result"
    }
   ],
   "source": [
    "train_result_final.head()"
   ]
  },
  {
   "cell_type": "markdown",
   "metadata": {},
   "source": [
    "# Scale bboxes proportionally"
   ]
  },
  {
   "cell_type": "code",
   "execution_count": 18,
   "metadata": {
    "execution": {
     "iopub.execute_input": "2021-06-14T16:56:47.729032Z",
     "iopub.status.busy": "2021-06-14T16:56:47.728476Z",
     "iopub.status.idle": "2021-06-14T16:56:47.734873Z",
     "shell.execute_reply": "2021-06-14T16:56:47.733739Z",
     "shell.execute_reply.started": "2021-06-14T16:56:47.728998Z"
    }
   },
   "outputs": [],
   "source": [
    "train_result_final[\"boxes\"] = train_result_final[\"boxes\"].fillna(\"[{'x':0, 'y':0, 'width':1, 'height':1}]\")"
   ]
  },
  {
   "cell_type": "code",
   "execution_count": 20,
   "metadata": {
    "execution": {
     "iopub.execute_input": "2021-06-14T16:57:04.713097Z",
     "iopub.status.busy": "2021-06-14T16:57:04.712735Z",
     "iopub.status.idle": "2021-06-14T16:57:04.937601Z",
     "shell.execute_reply": "2021-06-14T16:57:04.936741Z",
     "shell.execute_reply.started": "2021-06-14T16:57:04.713064Z"
    }
   },
   "outputs": [],
   "source": [
    "import ast\n",
    "train_result_final[\"boxes\"] = train_result_final[\"boxes\"].apply(lambda x: ast.literal_eval(x))"
   ]
  },
  {
   "cell_type": "code",
   "execution_count": 21,
   "metadata": {
    "execution": {
     "iopub.execute_input": "2021-06-14T16:57:13.430293Z",
     "iopub.status.busy": "2021-06-14T16:57:13.429925Z",
     "iopub.status.idle": "2021-06-14T16:57:13.449804Z",
     "shell.execute_reply": "2021-06-14T16:57:13.448726Z",
     "shell.execute_reply.started": "2021-06-14T16:57:13.430260Z"
    }
   },
   "outputs": [
    {
     "data": {
      "text/html": [
       "<div>\n",
       "<style scoped>\n",
       "    .dataframe tbody tr th:only-of-type {\n",
       "        vertical-align: middle;\n",
       "    }\n",
       "\n",
       "    .dataframe tbody tr th {\n",
       "        vertical-align: top;\n",
       "    }\n",
       "\n",
       "    .dataframe thead th {\n",
       "        text-align: right;\n",
       "    }\n",
       "</style>\n",
       "<table border=\"1\" class=\"dataframe\">\n",
       "  <thead>\n",
       "    <tr style=\"text-align: right;\">\n",
       "      <th></th>\n",
       "      <th>id</th>\n",
       "      <th>boxes</th>\n",
       "      <th>label</th>\n",
       "      <th>StudyInstanceUID</th>\n",
       "      <th>Negative for Pneumonia</th>\n",
       "      <th>Typical Appearance</th>\n",
       "      <th>Indeterminate Appearance</th>\n",
       "      <th>Atypical Appearance</th>\n",
       "      <th>dim0</th>\n",
       "      <th>dim1</th>\n",
       "      <th>split</th>\n",
       "    </tr>\n",
       "  </thead>\n",
       "  <tbody>\n",
       "    <tr>\n",
       "      <th>0</th>\n",
       "      <td>000a312787f2</td>\n",
       "      <td>[{'x': 789.28836, 'y': 582.43035, 'width': 102...</td>\n",
       "      <td>opacity 1 789.28836 582.43035 1815.94498 2499....</td>\n",
       "      <td>5776db0cec75</td>\n",
       "      <td>0</td>\n",
       "      <td>1</td>\n",
       "      <td>0</td>\n",
       "      <td>0</td>\n",
       "      <td>3488</td>\n",
       "      <td>4256</td>\n",
       "      <td>train</td>\n",
       "    </tr>\n",
       "    <tr>\n",
       "      <th>1</th>\n",
       "      <td>000c3a3f293f</td>\n",
       "      <td>[{'x': 0, 'y': 0, 'width': 1, 'height': 1}]</td>\n",
       "      <td>none 1 0 0 1 1</td>\n",
       "      <td>ff0879eb20ed</td>\n",
       "      <td>1</td>\n",
       "      <td>0</td>\n",
       "      <td>0</td>\n",
       "      <td>0</td>\n",
       "      <td>2320</td>\n",
       "      <td>2832</td>\n",
       "      <td>train</td>\n",
       "    </tr>\n",
       "    <tr>\n",
       "      <th>2</th>\n",
       "      <td>0012ff7358bc</td>\n",
       "      <td>[{'x': 677.42216, 'y': 197.97662, 'width': 867...</td>\n",
       "      <td>opacity 1 677.42216 197.97662 1545.21983 1197....</td>\n",
       "      <td>9d514ce429a7</td>\n",
       "      <td>0</td>\n",
       "      <td>1</td>\n",
       "      <td>0</td>\n",
       "      <td>0</td>\n",
       "      <td>2544</td>\n",
       "      <td>3056</td>\n",
       "      <td>train</td>\n",
       "    </tr>\n",
       "    <tr>\n",
       "      <th>3</th>\n",
       "      <td>001398f4ff4f</td>\n",
       "      <td>[{'x': 2729, 'y': 2181.33331, 'width': 948.000...</td>\n",
       "      <td>opacity 1 2729 2181.33331 3677.00012 2785.33331</td>\n",
       "      <td>28dddc8559b2</td>\n",
       "      <td>0</td>\n",
       "      <td>0</td>\n",
       "      <td>0</td>\n",
       "      <td>1</td>\n",
       "      <td>3520</td>\n",
       "      <td>4280</td>\n",
       "      <td>train</td>\n",
       "    </tr>\n",
       "    <tr>\n",
       "      <th>4</th>\n",
       "      <td>001bd15d1891</td>\n",
       "      <td>[{'x': 623.23328, 'y': 1050, 'width': 714, 'he...</td>\n",
       "      <td>opacity 1 623.23328 1050 1337.23328 2156 opaci...</td>\n",
       "      <td>dfd9fdd85a3e</td>\n",
       "      <td>0</td>\n",
       "      <td>1</td>\n",
       "      <td>0</td>\n",
       "      <td>0</td>\n",
       "      <td>2800</td>\n",
       "      <td>3408</td>\n",
       "      <td>train</td>\n",
       "    </tr>\n",
       "  </tbody>\n",
       "</table>\n",
       "</div>"
      ],
      "text/plain": [
       "             id                                              boxes  \\\n",
       "0  000a312787f2  [{'x': 789.28836, 'y': 582.43035, 'width': 102...   \n",
       "1  000c3a3f293f        [{'x': 0, 'y': 0, 'width': 1, 'height': 1}]   \n",
       "2  0012ff7358bc  [{'x': 677.42216, 'y': 197.97662, 'width': 867...   \n",
       "3  001398f4ff4f  [{'x': 2729, 'y': 2181.33331, 'width': 948.000...   \n",
       "4  001bd15d1891  [{'x': 623.23328, 'y': 1050, 'width': 714, 'he...   \n",
       "\n",
       "                                               label StudyInstanceUID  \\\n",
       "0  opacity 1 789.28836 582.43035 1815.94498 2499....     5776db0cec75   \n",
       "1                                     none 1 0 0 1 1     ff0879eb20ed   \n",
       "2  opacity 1 677.42216 197.97662 1545.21983 1197....     9d514ce429a7   \n",
       "3    opacity 1 2729 2181.33331 3677.00012 2785.33331     28dddc8559b2   \n",
       "4  opacity 1 623.23328 1050 1337.23328 2156 opaci...     dfd9fdd85a3e   \n",
       "\n",
       "   Negative for Pneumonia  Typical Appearance  Indeterminate Appearance  \\\n",
       "0                       0                   1                         0   \n",
       "1                       1                   0                         0   \n",
       "2                       0                   1                         0   \n",
       "3                       0                   0                         0   \n",
       "4                       0                   1                         0   \n",
       "\n",
       "   Atypical Appearance  dim0  dim1  split  \n",
       "0                    0  3488  4256  train  \n",
       "1                    0  2320  2832  train  \n",
       "2                    0  2544  3056  train  \n",
       "3                    1  3520  4280  train  \n",
       "4                    0  2800  3408  train  "
      ]
     },
     "execution_count": 21,
     "metadata": {},
     "output_type": "execute_result"
    }
   ],
   "source": [
    "train_result_final.head()"
   ]
  },
  {
   "cell_type": "code",
   "execution_count": 22,
   "metadata": {
    "execution": {
     "iopub.execute_input": "2021-06-14T16:57:56.235557Z",
     "iopub.status.busy": "2021-06-14T16:57:56.235192Z",
     "iopub.status.idle": "2021-06-14T16:57:56.241326Z",
     "shell.execute_reply": "2021-06-14T16:57:56.240364Z",
     "shell.execute_reply.started": "2021-06-14T16:57:56.235526Z"
    }
   },
   "outputs": [],
   "source": [
    "def unpack_bboxes(df):\n",
    "    \"\"\" go from xmin,ymin,width,height --> xmin,ymin,xmax,ymax \"\"\"\n",
    "    for dictionary in df[\"boxes\"]:\n",
    "        df[\"xmin\"] = dictionary[\"x\"]\n",
    "        df[\"ymin\"] = dictionary[\"y\"]\n",
    "        df[\"xmax\"] = dictionary[\"x\"] + dictionary[\"width\"]\n",
    "        df[\"ymax\"] = dictionary[\"y\"] + dictionary[\"height\"]\n",
    "    return df"
   ]
  },
  {
   "cell_type": "code",
   "execution_count": 23,
   "metadata": {
    "execution": {
     "iopub.execute_input": "2021-06-14T16:59:14.041595Z",
     "iopub.status.busy": "2021-06-14T16:59:14.041067Z",
     "iopub.status.idle": "2021-06-14T16:59:14.047498Z",
     "shell.execute_reply": "2021-06-14T16:59:14.046805Z",
     "shell.execute_reply.started": "2021-06-14T16:59:14.041548Z"
    }
   },
   "outputs": [],
   "source": [
    "def scale_bbox_coor(df):\n",
    "    if df['xmin'] != 0:\n",
    "        df['xmin'] *= (256 / df['dim1'])\n",
    "        df['xmax'] *= (256 / df['dim1'])\n",
    "        df['ymin'] *= (256 / df['dim0'])\n",
    "        df['ymax'] *= (256 / df['dim0'])\n",
    "    return df"
   ]
  },
  {
   "cell_type": "code",
   "execution_count": 24,
   "metadata": {
    "execution": {
     "iopub.execute_input": "2021-06-14T16:59:19.321759Z",
     "iopub.status.busy": "2021-06-14T16:59:19.321176Z",
     "iopub.status.idle": "2021-06-14T16:59:38.672636Z",
     "shell.execute_reply": "2021-06-14T16:59:38.671671Z",
     "shell.execute_reply.started": "2021-06-14T16:59:19.321712Z"
    }
   },
   "outputs": [
    {
     "name": "stdout",
     "output_type": "stream",
     "text": [
      "Unpacking bboxes into separate columns. This will take ~20 secs\n"
     ]
    }
   ],
   "source": [
    "print(\"Unpacking bboxes into separate columns. This will take ~20 secs\")\n",
    "train_result_final = train_result_final.apply(unpack_bboxes, axis=1)"
   ]
  },
  {
   "cell_type": "code",
   "execution_count": 25,
   "metadata": {
    "execution": {
     "iopub.execute_input": "2021-06-14T16:59:40.828102Z",
     "iopub.status.busy": "2021-06-14T16:59:40.827528Z",
     "iopub.status.idle": "2021-06-14T16:59:41.911475Z",
     "shell.execute_reply": "2021-06-14T16:59:41.910747Z",
     "shell.execute_reply.started": "2021-06-14T16:59:40.828045Z"
    }
   },
   "outputs": [],
   "source": [
    "train_result_final = train_result_final.apply(scale_bbox_coor, axis=1)"
   ]
  },
  {
   "cell_type": "code",
   "execution_count": 26,
   "metadata": {
    "execution": {
     "iopub.execute_input": "2021-06-14T16:59:48.566090Z",
     "iopub.status.busy": "2021-06-14T16:59:48.565529Z",
     "iopub.status.idle": "2021-06-14T16:59:48.589815Z",
     "shell.execute_reply": "2021-06-14T16:59:48.589108Z",
     "shell.execute_reply.started": "2021-06-14T16:59:48.566058Z"
    }
   },
   "outputs": [
    {
     "data": {
      "text/html": [
       "<div>\n",
       "<style scoped>\n",
       "    .dataframe tbody tr th:only-of-type {\n",
       "        vertical-align: middle;\n",
       "    }\n",
       "\n",
       "    .dataframe tbody tr th {\n",
       "        vertical-align: top;\n",
       "    }\n",
       "\n",
       "    .dataframe thead th {\n",
       "        text-align: right;\n",
       "    }\n",
       "</style>\n",
       "<table border=\"1\" class=\"dataframe\">\n",
       "  <thead>\n",
       "    <tr style=\"text-align: right;\">\n",
       "      <th></th>\n",
       "      <th>id</th>\n",
       "      <th>boxes</th>\n",
       "      <th>label</th>\n",
       "      <th>StudyInstanceUID</th>\n",
       "      <th>Negative for Pneumonia</th>\n",
       "      <th>Typical Appearance</th>\n",
       "      <th>Indeterminate Appearance</th>\n",
       "      <th>Atypical Appearance</th>\n",
       "      <th>dim0</th>\n",
       "      <th>dim1</th>\n",
       "      <th>split</th>\n",
       "      <th>xmin</th>\n",
       "      <th>ymin</th>\n",
       "      <th>xmax</th>\n",
       "      <th>ymax</th>\n",
       "    </tr>\n",
       "  </thead>\n",
       "  <tbody>\n",
       "    <tr>\n",
       "      <th>0</th>\n",
       "      <td>000a312787f2</td>\n",
       "      <td>[{'x': 789.28836, 'y': 582.43035, 'width': 102...</td>\n",
       "      <td>opacity 1 789.28836 582.43035 1815.94498 2499....</td>\n",
       "      <td>5776db0cec75</td>\n",
       "      <td>0</td>\n",
       "      <td>1</td>\n",
       "      <td>0</td>\n",
       "      <td>0</td>\n",
       "      <td>3488</td>\n",
       "      <td>4256</td>\n",
       "      <td>train</td>\n",
       "      <td>135.092456</td>\n",
       "      <td>43.391213</td>\n",
       "      <td>200.936764</td>\n",
       "      <td>172.679246</td>\n",
       "    </tr>\n",
       "    <tr>\n",
       "      <th>1</th>\n",
       "      <td>000c3a3f293f</td>\n",
       "      <td>[{'x': 0, 'y': 0, 'width': 1, 'height': 1}]</td>\n",
       "      <td>none 1 0 0 1 1</td>\n",
       "      <td>ff0879eb20ed</td>\n",
       "      <td>1</td>\n",
       "      <td>0</td>\n",
       "      <td>0</td>\n",
       "      <td>0</td>\n",
       "      <td>2320</td>\n",
       "      <td>2832</td>\n",
       "      <td>train</td>\n",
       "      <td>0.000000</td>\n",
       "      <td>0.000000</td>\n",
       "      <td>1.000000</td>\n",
       "      <td>1.000000</td>\n",
       "    </tr>\n",
       "    <tr>\n",
       "      <th>2</th>\n",
       "      <td>0012ff7358bc</td>\n",
       "      <td>[{'x': 677.42216, 'y': 197.97662, 'width': 867...</td>\n",
       "      <td>opacity 1 677.42216 197.97662 1545.21983 1197....</td>\n",
       "      <td>9d514ce429a7</td>\n",
       "      <td>0</td>\n",
       "      <td>1</td>\n",
       "      <td>0</td>\n",
       "      <td>0</td>\n",
       "      <td>2544</td>\n",
       "      <td>3056</td>\n",
       "      <td>train</td>\n",
       "      <td>150.173038</td>\n",
       "      <td>40.508428</td>\n",
       "      <td>201.861192</td>\n",
       "      <td>161.701686</td>\n",
       "    </tr>\n",
       "    <tr>\n",
       "      <th>3</th>\n",
       "      <td>001398f4ff4f</td>\n",
       "      <td>[{'x': 2729, 'y': 2181.33331, 'width': 948.000...</td>\n",
       "      <td>opacity 1 2729 2181.33331 3677.00012 2785.33331</td>\n",
       "      <td>28dddc8559b2</td>\n",
       "      <td>0</td>\n",
       "      <td>0</td>\n",
       "      <td>0</td>\n",
       "      <td>1</td>\n",
       "      <td>3520</td>\n",
       "      <td>4280</td>\n",
       "      <td>train</td>\n",
       "      <td>163.229907</td>\n",
       "      <td>158.642423</td>\n",
       "      <td>219.932717</td>\n",
       "      <td>202.569695</td>\n",
       "    </tr>\n",
       "    <tr>\n",
       "      <th>4</th>\n",
       "      <td>001bd15d1891</td>\n",
       "      <td>[{'x': 623.23328, 'y': 1050, 'width': 714, 'he...</td>\n",
       "      <td>opacity 1 623.23328 1050 1337.23328 2156 opaci...</td>\n",
       "      <td>dfd9fdd85a3e</td>\n",
       "      <td>0</td>\n",
       "      <td>1</td>\n",
       "      <td>0</td>\n",
       "      <td>0</td>\n",
       "      <td>2800</td>\n",
       "      <td>3408</td>\n",
       "      <td>train</td>\n",
       "      <td>193.695144</td>\n",
       "      <td>91.306667</td>\n",
       "      <td>243.472922</td>\n",
       "      <td>193.706667</td>\n",
       "    </tr>\n",
       "  </tbody>\n",
       "</table>\n",
       "</div>"
      ],
      "text/plain": [
       "             id                                              boxes  \\\n",
       "0  000a312787f2  [{'x': 789.28836, 'y': 582.43035, 'width': 102...   \n",
       "1  000c3a3f293f        [{'x': 0, 'y': 0, 'width': 1, 'height': 1}]   \n",
       "2  0012ff7358bc  [{'x': 677.42216, 'y': 197.97662, 'width': 867...   \n",
       "3  001398f4ff4f  [{'x': 2729, 'y': 2181.33331, 'width': 948.000...   \n",
       "4  001bd15d1891  [{'x': 623.23328, 'y': 1050, 'width': 714, 'he...   \n",
       "\n",
       "                                               label StudyInstanceUID  \\\n",
       "0  opacity 1 789.28836 582.43035 1815.94498 2499....     5776db0cec75   \n",
       "1                                     none 1 0 0 1 1     ff0879eb20ed   \n",
       "2  opacity 1 677.42216 197.97662 1545.21983 1197....     9d514ce429a7   \n",
       "3    opacity 1 2729 2181.33331 3677.00012 2785.33331     28dddc8559b2   \n",
       "4  opacity 1 623.23328 1050 1337.23328 2156 opaci...     dfd9fdd85a3e   \n",
       "\n",
       "   Negative for Pneumonia  Typical Appearance  Indeterminate Appearance  \\\n",
       "0                       0                   1                         0   \n",
       "1                       1                   0                         0   \n",
       "2                       0                   1                         0   \n",
       "3                       0                   0                         0   \n",
       "4                       0                   1                         0   \n",
       "\n",
       "   Atypical Appearance  dim0  dim1  split        xmin        ymin        xmax  \\\n",
       "0                    0  3488  4256  train  135.092456   43.391213  200.936764   \n",
       "1                    0  2320  2832  train    0.000000    0.000000    1.000000   \n",
       "2                    0  2544  3056  train  150.173038   40.508428  201.861192   \n",
       "3                    1  3520  4280  train  163.229907  158.642423  219.932717   \n",
       "4                    0  2800  3408  train  193.695144   91.306667  243.472922   \n",
       "\n",
       "         ymax  \n",
       "0  172.679246  \n",
       "1    1.000000  \n",
       "2  161.701686  \n",
       "3  202.569695  \n",
       "4  193.706667  "
      ]
     },
     "execution_count": 26,
     "metadata": {},
     "output_type": "execute_result"
    }
   ],
   "source": [
    "train_result_final.head()"
   ]
  },
  {
   "cell_type": "code",
   "execution_count": 27,
   "metadata": {
    "execution": {
     "iopub.execute_input": "2021-06-14T17:00:24.883084Z",
     "iopub.status.busy": "2021-06-14T17:00:24.882736Z",
     "iopub.status.idle": "2021-06-14T17:00:24.887099Z",
     "shell.execute_reply": "2021-06-14T17:00:24.886301Z",
     "shell.execute_reply.started": "2021-06-14T17:00:24.883054Z"
    }
   },
   "outputs": [],
   "source": [
    "labels_dict = {'Negative for Pneumonia': [\"negative\", 1], 'Typical Appearance': [\"typical\", 2], 'Indeterminate Appearance': [\"indeterminate\", 3], 'Atypical Appearance': [\"atypical\", 4]}"
   ]
  },
  {
   "cell_type": "code",
   "execution_count": 28,
   "metadata": {
    "execution": {
     "iopub.execute_input": "2021-06-14T17:00:27.296609Z",
     "iopub.status.busy": "2021-06-14T17:00:27.296106Z",
     "iopub.status.idle": "2021-06-14T17:00:27.300731Z",
     "shell.execute_reply": "2021-06-14T17:00:27.299993Z",
     "shell.execute_reply.started": "2021-06-14T17:00:27.296576Z"
    }
   },
   "outputs": [],
   "source": [
    "def convert_and_combine_classes(df):\n",
    "    for lbl in labels_dict:\n",
    "        if df[lbl]:\n",
    "            df['class'] = labels_dict[lbl][0]\n",
    "            df['class_num'] = labels_dict[lbl][1]\n",
    "    return df"
   ]
  },
  {
   "cell_type": "code",
   "execution_count": 29,
   "metadata": {
    "execution": {
     "iopub.execute_input": "2021-06-14T17:00:31.120268Z",
     "iopub.status.busy": "2021-06-14T17:00:31.119895Z",
     "iopub.status.idle": "2021-06-14T17:00:41.901764Z",
     "shell.execute_reply": "2021-06-14T17:00:41.900784Z",
     "shell.execute_reply.started": "2021-06-14T17:00:31.120230Z"
    }
   },
   "outputs": [],
   "source": [
    "train_result_final = train_result_final.apply(convert_and_combine_classes, axis=1)"
   ]
  },
  {
   "cell_type": "code",
   "execution_count": 30,
   "metadata": {
    "execution": {
     "iopub.execute_input": "2021-06-14T17:00:41.903985Z",
     "iopub.status.busy": "2021-06-14T17:00:41.903518Z",
     "iopub.status.idle": "2021-06-14T17:00:41.930552Z",
     "shell.execute_reply": "2021-06-14T17:00:41.929372Z",
     "shell.execute_reply.started": "2021-06-14T17:00:41.903939Z"
    }
   },
   "outputs": [
    {
     "data": {
      "text/html": [
       "<div>\n",
       "<style scoped>\n",
       "    .dataframe tbody tr th:only-of-type {\n",
       "        vertical-align: middle;\n",
       "    }\n",
       "\n",
       "    .dataframe tbody tr th {\n",
       "        vertical-align: top;\n",
       "    }\n",
       "\n",
       "    .dataframe thead th {\n",
       "        text-align: right;\n",
       "    }\n",
       "</style>\n",
       "<table border=\"1\" class=\"dataframe\">\n",
       "  <thead>\n",
       "    <tr style=\"text-align: right;\">\n",
       "      <th></th>\n",
       "      <th>id</th>\n",
       "      <th>boxes</th>\n",
       "      <th>label</th>\n",
       "      <th>StudyInstanceUID</th>\n",
       "      <th>Negative for Pneumonia</th>\n",
       "      <th>Typical Appearance</th>\n",
       "      <th>Indeterminate Appearance</th>\n",
       "      <th>Atypical Appearance</th>\n",
       "      <th>dim0</th>\n",
       "      <th>dim1</th>\n",
       "      <th>split</th>\n",
       "      <th>xmin</th>\n",
       "      <th>ymin</th>\n",
       "      <th>xmax</th>\n",
       "      <th>ymax</th>\n",
       "      <th>class</th>\n",
       "      <th>class_num</th>\n",
       "    </tr>\n",
       "  </thead>\n",
       "  <tbody>\n",
       "    <tr>\n",
       "      <th>0</th>\n",
       "      <td>000a312787f2</td>\n",
       "      <td>[{'x': 789.28836, 'y': 582.43035, 'width': 102...</td>\n",
       "      <td>opacity 1 789.28836 582.43035 1815.94498 2499....</td>\n",
       "      <td>5776db0cec75</td>\n",
       "      <td>0</td>\n",
       "      <td>1</td>\n",
       "      <td>0</td>\n",
       "      <td>0</td>\n",
       "      <td>3488</td>\n",
       "      <td>4256</td>\n",
       "      <td>train</td>\n",
       "      <td>135.092456</td>\n",
       "      <td>43.391213</td>\n",
       "      <td>200.936764</td>\n",
       "      <td>172.679246</td>\n",
       "      <td>typical</td>\n",
       "      <td>2</td>\n",
       "    </tr>\n",
       "    <tr>\n",
       "      <th>1</th>\n",
       "      <td>000c3a3f293f</td>\n",
       "      <td>[{'x': 0, 'y': 0, 'width': 1, 'height': 1}]</td>\n",
       "      <td>none 1 0 0 1 1</td>\n",
       "      <td>ff0879eb20ed</td>\n",
       "      <td>1</td>\n",
       "      <td>0</td>\n",
       "      <td>0</td>\n",
       "      <td>0</td>\n",
       "      <td>2320</td>\n",
       "      <td>2832</td>\n",
       "      <td>train</td>\n",
       "      <td>0.000000</td>\n",
       "      <td>0.000000</td>\n",
       "      <td>1.000000</td>\n",
       "      <td>1.000000</td>\n",
       "      <td>negative</td>\n",
       "      <td>1</td>\n",
       "    </tr>\n",
       "    <tr>\n",
       "      <th>2</th>\n",
       "      <td>0012ff7358bc</td>\n",
       "      <td>[{'x': 677.42216, 'y': 197.97662, 'width': 867...</td>\n",
       "      <td>opacity 1 677.42216 197.97662 1545.21983 1197....</td>\n",
       "      <td>9d514ce429a7</td>\n",
       "      <td>0</td>\n",
       "      <td>1</td>\n",
       "      <td>0</td>\n",
       "      <td>0</td>\n",
       "      <td>2544</td>\n",
       "      <td>3056</td>\n",
       "      <td>train</td>\n",
       "      <td>150.173038</td>\n",
       "      <td>40.508428</td>\n",
       "      <td>201.861192</td>\n",
       "      <td>161.701686</td>\n",
       "      <td>typical</td>\n",
       "      <td>2</td>\n",
       "    </tr>\n",
       "    <tr>\n",
       "      <th>3</th>\n",
       "      <td>001398f4ff4f</td>\n",
       "      <td>[{'x': 2729, 'y': 2181.33331, 'width': 948.000...</td>\n",
       "      <td>opacity 1 2729 2181.33331 3677.00012 2785.33331</td>\n",
       "      <td>28dddc8559b2</td>\n",
       "      <td>0</td>\n",
       "      <td>0</td>\n",
       "      <td>0</td>\n",
       "      <td>1</td>\n",
       "      <td>3520</td>\n",
       "      <td>4280</td>\n",
       "      <td>train</td>\n",
       "      <td>163.229907</td>\n",
       "      <td>158.642423</td>\n",
       "      <td>219.932717</td>\n",
       "      <td>202.569695</td>\n",
       "      <td>atypical</td>\n",
       "      <td>4</td>\n",
       "    </tr>\n",
       "    <tr>\n",
       "      <th>4</th>\n",
       "      <td>001bd15d1891</td>\n",
       "      <td>[{'x': 623.23328, 'y': 1050, 'width': 714, 'he...</td>\n",
       "      <td>opacity 1 623.23328 1050 1337.23328 2156 opaci...</td>\n",
       "      <td>dfd9fdd85a3e</td>\n",
       "      <td>0</td>\n",
       "      <td>1</td>\n",
       "      <td>0</td>\n",
       "      <td>0</td>\n",
       "      <td>2800</td>\n",
       "      <td>3408</td>\n",
       "      <td>train</td>\n",
       "      <td>193.695144</td>\n",
       "      <td>91.306667</td>\n",
       "      <td>243.472922</td>\n",
       "      <td>193.706667</td>\n",
       "      <td>typical</td>\n",
       "      <td>2</td>\n",
       "    </tr>\n",
       "  </tbody>\n",
       "</table>\n",
       "</div>"
      ],
      "text/plain": [
       "             id                                              boxes  \\\n",
       "0  000a312787f2  [{'x': 789.28836, 'y': 582.43035, 'width': 102...   \n",
       "1  000c3a3f293f        [{'x': 0, 'y': 0, 'width': 1, 'height': 1}]   \n",
       "2  0012ff7358bc  [{'x': 677.42216, 'y': 197.97662, 'width': 867...   \n",
       "3  001398f4ff4f  [{'x': 2729, 'y': 2181.33331, 'width': 948.000...   \n",
       "4  001bd15d1891  [{'x': 623.23328, 'y': 1050, 'width': 714, 'he...   \n",
       "\n",
       "                                               label StudyInstanceUID  \\\n",
       "0  opacity 1 789.28836 582.43035 1815.94498 2499....     5776db0cec75   \n",
       "1                                     none 1 0 0 1 1     ff0879eb20ed   \n",
       "2  opacity 1 677.42216 197.97662 1545.21983 1197....     9d514ce429a7   \n",
       "3    opacity 1 2729 2181.33331 3677.00012 2785.33331     28dddc8559b2   \n",
       "4  opacity 1 623.23328 1050 1337.23328 2156 opaci...     dfd9fdd85a3e   \n",
       "\n",
       "   Negative for Pneumonia  Typical Appearance  Indeterminate Appearance  \\\n",
       "0                       0                   1                         0   \n",
       "1                       1                   0                         0   \n",
       "2                       0                   1                         0   \n",
       "3                       0                   0                         0   \n",
       "4                       0                   1                         0   \n",
       "\n",
       "   Atypical Appearance  dim0  dim1  split        xmin        ymin        xmax  \\\n",
       "0                    0  3488  4256  train  135.092456   43.391213  200.936764   \n",
       "1                    0  2320  2832  train    0.000000    0.000000    1.000000   \n",
       "2                    0  2544  3056  train  150.173038   40.508428  201.861192   \n",
       "3                    1  3520  4280  train  163.229907  158.642423  219.932717   \n",
       "4                    0  2800  3408  train  193.695144   91.306667  243.472922   \n",
       "\n",
       "         ymax     class  class_num  \n",
       "0  172.679246   typical          2  \n",
       "1    1.000000  negative          1  \n",
       "2  161.701686   typical          2  \n",
       "3  202.569695  atypical          4  \n",
       "4  193.706667   typical          2  "
      ]
     },
     "execution_count": 30,
     "metadata": {},
     "output_type": "execute_result"
    }
   ],
   "source": [
    "train_result_final.head()"
   ]
  },
  {
   "cell_type": "markdown",
   "metadata": {},
   "source": [
    "# Split train DataFrame into train/validation"
   ]
  },
  {
   "cell_type": "code",
   "execution_count": 31,
   "metadata": {
    "execution": {
     "iopub.execute_input": "2021-06-14T17:01:27.941030Z",
     "iopub.status.busy": "2021-06-14T17:01:27.940671Z",
     "iopub.status.idle": "2021-06-14T17:01:28.934197Z",
     "shell.execute_reply": "2021-06-14T17:01:28.933194Z",
     "shell.execute_reply.started": "2021-06-14T17:01:27.940993Z"
    }
   },
   "outputs": [],
   "source": [
    "import sklearn\n",
    "from sklearn.model_selection import train_test_split\n",
    "\n",
    "train_df, val_df = train_test_split(train_result_final, test_size=0.1)"
   ]
  },
  {
   "cell_type": "code",
   "execution_count": 32,
   "metadata": {
    "execution": {
     "iopub.execute_input": "2021-06-14T17:01:31.748998Z",
     "iopub.status.busy": "2021-06-14T17:01:31.748552Z",
     "iopub.status.idle": "2021-06-14T17:01:31.760501Z",
     "shell.execute_reply": "2021-06-14T17:01:31.758802Z",
     "shell.execute_reply.started": "2021-06-14T17:01:31.748962Z"
    }
   },
   "outputs": [],
   "source": [
    "train_df = train_df.filter(['id','class', 'class_num', 'xmin', 'ymin', 'xmax', 'ymax'], axis=1)\n",
    "val_df = val_df.filter(['id','class', 'class_num', 'xmin', 'ymin', 'xmax', 'ymax'], axis=1)"
   ]
  },
  {
   "cell_type": "code",
   "execution_count": 33,
   "metadata": {
    "execution": {
     "iopub.execute_input": "2021-06-14T17:01:35.777448Z",
     "iopub.status.busy": "2021-06-14T17:01:35.776872Z",
     "iopub.status.idle": "2021-06-14T17:01:35.793082Z",
     "shell.execute_reply": "2021-06-14T17:01:35.791868Z",
     "shell.execute_reply.started": "2021-06-14T17:01:35.777406Z"
    }
   },
   "outputs": [
    {
     "data": {
      "text/html": [
       "<div>\n",
       "<style scoped>\n",
       "    .dataframe tbody tr th:only-of-type {\n",
       "        vertical-align: middle;\n",
       "    }\n",
       "\n",
       "    .dataframe tbody tr th {\n",
       "        vertical-align: top;\n",
       "    }\n",
       "\n",
       "    .dataframe thead th {\n",
       "        text-align: right;\n",
       "    }\n",
       "</style>\n",
       "<table border=\"1\" class=\"dataframe\">\n",
       "  <thead>\n",
       "    <tr style=\"text-align: right;\">\n",
       "      <th></th>\n",
       "      <th>id</th>\n",
       "      <th>class</th>\n",
       "      <th>class_num</th>\n",
       "      <th>xmin</th>\n",
       "      <th>ymin</th>\n",
       "      <th>xmax</th>\n",
       "      <th>ymax</th>\n",
       "    </tr>\n",
       "  </thead>\n",
       "  <tbody>\n",
       "    <tr>\n",
       "      <th>3868</th>\n",
       "      <td>9d9d646aa9fa</td>\n",
       "      <td>negative</td>\n",
       "      <td>1</td>\n",
       "      <td>0.000000</td>\n",
       "      <td>0.000000</td>\n",
       "      <td>1.000000</td>\n",
       "      <td>1.000000</td>\n",
       "    </tr>\n",
       "    <tr>\n",
       "      <th>3837</th>\n",
       "      <td>9be97a2b7f90</td>\n",
       "      <td>typical</td>\n",
       "      <td>2</td>\n",
       "      <td>150.807954</td>\n",
       "      <td>28.560545</td>\n",
       "      <td>230.277189</td>\n",
       "      <td>183.902037</td>\n",
       "    </tr>\n",
       "    <tr>\n",
       "      <th>5292</th>\n",
       "      <td>d4bce67cb700</td>\n",
       "      <td>typical</td>\n",
       "      <td>2</td>\n",
       "      <td>50.158414</td>\n",
       "      <td>98.973497</td>\n",
       "      <td>96.418437</td>\n",
       "      <td>154.272855</td>\n",
       "    </tr>\n",
       "    <tr>\n",
       "      <th>228</th>\n",
       "      <td>08a68d025467</td>\n",
       "      <td>typical</td>\n",
       "      <td>2</td>\n",
       "      <td>151.666667</td>\n",
       "      <td>85.983238</td>\n",
       "      <td>199.666677</td>\n",
       "      <td>167.140305</td>\n",
       "    </tr>\n",
       "    <tr>\n",
       "      <th>3405</th>\n",
       "      <td>8ac094a0ec17</td>\n",
       "      <td>typical</td>\n",
       "      <td>2</td>\n",
       "      <td>147.082410</td>\n",
       "      <td>54.890090</td>\n",
       "      <td>208.675116</td>\n",
       "      <td>183.120725</td>\n",
       "    </tr>\n",
       "  </tbody>\n",
       "</table>\n",
       "</div>"
      ],
      "text/plain": [
       "                id     class  class_num        xmin       ymin        xmax  \\\n",
       "3868  9d9d646aa9fa  negative          1    0.000000   0.000000    1.000000   \n",
       "3837  9be97a2b7f90   typical          2  150.807954  28.560545  230.277189   \n",
       "5292  d4bce67cb700   typical          2   50.158414  98.973497   96.418437   \n",
       "228   08a68d025467   typical          2  151.666667  85.983238  199.666677   \n",
       "3405  8ac094a0ec17   typical          2  147.082410  54.890090  208.675116   \n",
       "\n",
       "            ymax  \n",
       "3868    1.000000  \n",
       "3837  183.902037  \n",
       "5292  154.272855  \n",
       "228   167.140305  \n",
       "3405  183.120725  "
      ]
     },
     "execution_count": 33,
     "metadata": {},
     "output_type": "execute_result"
    }
   ],
   "source": [
    "train_df.head()"
   ]
  },
  {
   "cell_type": "code",
   "execution_count": 34,
   "metadata": {
    "execution": {
     "iopub.execute_input": "2021-06-14T17:01:50.850093Z",
     "iopub.status.busy": "2021-06-14T17:01:50.849686Z",
     "iopub.status.idle": "2021-06-14T17:01:50.864675Z",
     "shell.execute_reply": "2021-06-14T17:01:50.863763Z",
     "shell.execute_reply.started": "2021-06-14T17:01:50.850061Z"
    }
   },
   "outputs": [
    {
     "data": {
      "text/html": [
       "<div>\n",
       "<style scoped>\n",
       "    .dataframe tbody tr th:only-of-type {\n",
       "        vertical-align: middle;\n",
       "    }\n",
       "\n",
       "    .dataframe tbody tr th {\n",
       "        vertical-align: top;\n",
       "    }\n",
       "\n",
       "    .dataframe thead th {\n",
       "        text-align: right;\n",
       "    }\n",
       "</style>\n",
       "<table border=\"1\" class=\"dataframe\">\n",
       "  <thead>\n",
       "    <tr style=\"text-align: right;\">\n",
       "      <th></th>\n",
       "      <th>id</th>\n",
       "      <th>class</th>\n",
       "      <th>class_num</th>\n",
       "      <th>xmin</th>\n",
       "      <th>ymin</th>\n",
       "      <th>xmax</th>\n",
       "      <th>ymax</th>\n",
       "    </tr>\n",
       "  </thead>\n",
       "  <tbody>\n",
       "    <tr>\n",
       "      <th>4208</th>\n",
       "      <td>ac26385a13d5</td>\n",
       "      <td>typical</td>\n",
       "      <td>2</td>\n",
       "      <td>176.087397</td>\n",
       "      <td>100.295042</td>\n",
       "      <td>216.065935</td>\n",
       "      <td>163.443782</td>\n",
       "    </tr>\n",
       "    <tr>\n",
       "      <th>2152</th>\n",
       "      <td>57675376af04</td>\n",
       "      <td>typical</td>\n",
       "      <td>2</td>\n",
       "      <td>141.755775</td>\n",
       "      <td>53.486983</td>\n",
       "      <td>225.932049</td>\n",
       "      <td>208.028591</td>\n",
       "    </tr>\n",
       "    <tr>\n",
       "      <th>4267</th>\n",
       "      <td>ae68234eb2d3</td>\n",
       "      <td>indeterminate</td>\n",
       "      <td>3</td>\n",
       "      <td>142.935192</td>\n",
       "      <td>142.454276</td>\n",
       "      <td>183.966559</td>\n",
       "      <td>188.534071</td>\n",
       "    </tr>\n",
       "    <tr>\n",
       "      <th>4029</th>\n",
       "      <td>a4faba634b4f</td>\n",
       "      <td>indeterminate</td>\n",
       "      <td>3</td>\n",
       "      <td>190.992717</td>\n",
       "      <td>60.217847</td>\n",
       "      <td>223.799037</td>\n",
       "      <td>107.680185</td>\n",
       "    </tr>\n",
       "    <tr>\n",
       "      <th>2254</th>\n",
       "      <td>5b8a35fa9e37</td>\n",
       "      <td>typical</td>\n",
       "      <td>2</td>\n",
       "      <td>198.470475</td>\n",
       "      <td>104.533333</td>\n",
       "      <td>237.895816</td>\n",
       "      <td>222.293333</td>\n",
       "    </tr>\n",
       "  </tbody>\n",
       "</table>\n",
       "</div>"
      ],
      "text/plain": [
       "                id          class  class_num        xmin        ymin  \\\n",
       "4208  ac26385a13d5        typical          2  176.087397  100.295042   \n",
       "2152  57675376af04        typical          2  141.755775   53.486983   \n",
       "4267  ae68234eb2d3  indeterminate          3  142.935192  142.454276   \n",
       "4029  a4faba634b4f  indeterminate          3  190.992717   60.217847   \n",
       "2254  5b8a35fa9e37        typical          2  198.470475  104.533333   \n",
       "\n",
       "            xmax        ymax  \n",
       "4208  216.065935  163.443782  \n",
       "2152  225.932049  208.028591  \n",
       "4267  183.966559  188.534071  \n",
       "4029  223.799037  107.680185  \n",
       "2254  237.895816  222.293333  "
      ]
     },
     "execution_count": 34,
     "metadata": {},
     "output_type": "execute_result"
    }
   ],
   "source": [
    "val_df.head()"
   ]
  },
  {
   "cell_type": "markdown",
   "metadata": {},
   "source": [
    "# Split train images into train/validation datasets"
   ]
  },
  {
   "cell_type": "code",
   "execution_count": 37,
   "metadata": {
    "execution": {
     "iopub.execute_input": "2021-06-14T17:03:07.404017Z",
     "iopub.status.busy": "2021-06-14T17:03:07.403600Z",
     "iopub.status.idle": "2021-06-14T17:03:09.586231Z",
     "shell.execute_reply": "2021-06-14T17:03:09.584885Z",
     "shell.execute_reply.started": "2021-06-14T17:03:07.403986Z"
    }
   },
   "outputs": [
    {
     "name": "stdout",
     "output_type": "stream",
     "text": [
      "/kaggle/working\n"
     ]
    }
   ],
   "source": [
    "# Move 10% of images from train to validation directory\n",
    "!pwd\n",
    "!mkdir -p /kaggle/working/dataset/train\n",
    "!mkdir -p /kaggle/working/dataset/validation\n",
    "\n",
    "import os\n",
    "import shutil\n",
    "\n",
    "original_dataset_path = '../input/siim-covid19-resized-to-256px-jpg/train'\n",
    "\n",
    "def copy_split_dataset(df, split):\n",
    "    for _, row in df.iterrows():\n",
    "        source_file_path = os.path.join(original_dataset_path, (row['id'] + '.jpg'))\n",
    "        dest_file_path = os.path.join(('./dataset/' + split), (row['id'] +'.jpg'))\n",
    "        shutil.copy(source_file_path, dest_file_path)"
   ]
  },
  {
   "cell_type": "code",
   "execution_count": 38,
   "metadata": {
    "execution": {
     "iopub.execute_input": "2021-06-14T17:03:09.588424Z",
     "iopub.status.busy": "2021-06-14T17:03:09.588122Z",
     "iopub.status.idle": "2021-06-14T17:03:56.174608Z",
     "shell.execute_reply": "2021-06-14T17:03:56.173469Z",
     "shell.execute_reply.started": "2021-06-14T17:03:09.588394Z"
    }
   },
   "outputs": [],
   "source": [
    "copy_split_dataset(train_df, 'train')\n",
    "copy_split_dataset(val_df, 'validation')\n"
   ]
  },
  {
   "cell_type": "code",
   "execution_count": null,
   "metadata": {
    "execution": {
     "iopub.execute_input": "2021-06-14T10:39:28.61011Z",
     "iopub.status.busy": "2021-06-14T10:39:28.609749Z",
     "iopub.status.idle": "2021-06-14T10:39:28.621135Z",
     "shell.execute_reply": "2021-06-14T10:39:28.620126Z",
     "shell.execute_reply.started": "2021-06-14T10:39:28.610071Z"
    }
   },
   "outputs": [],
   "source": [
    "print(len(os.listdir('/kaggle/working/dataset/train/')))\n",
    "print(len(os.listdir('/kaggle/working/dataset/validation/')))"
   ]
  },
  {
   "cell_type": "code",
   "execution_count": null,
   "metadata": {
    "execution": {
     "iopub.execute_input": "2021-06-14T10:39:28.623154Z",
     "iopub.status.busy": "2021-06-14T10:39:28.622711Z",
     "iopub.status.idle": "2021-06-14T10:39:28.700926Z",
     "shell.execute_reply": "2021-06-14T10:39:28.700122Z",
     "shell.execute_reply.started": "2021-06-14T10:39:28.623062Z"
    }
   },
   "outputs": [],
   "source": [
    "train_df.to_csv('train_df.csv', encoding='utf-8')\n",
    "val_df.to_csv('val_df.csv', encoding='utf-8')"
   ]
  },
  {
   "cell_type": "markdown",
   "metadata": {},
   "source": [
    "# Create TFRecord files"
   ]
  },
  {
   "cell_type": "code",
   "execution_count": null,
   "metadata": {
    "execution": {
     "iopub.execute_input": "2021-06-14T10:39:28.702566Z",
     "iopub.status.busy": "2021-06-14T10:39:28.7022Z",
     "iopub.status.idle": "2021-06-14T10:39:28.709565Z",
     "shell.execute_reply": "2021-06-14T10:39:28.708753Z",
     "shell.execute_reply.started": "2021-06-14T10:39:28.702527Z"
    }
   },
   "outputs": [],
   "source": [
    "import io\n",
    "from collections import namedtuple\n",
    "\n",
    "def split(df, group):\n",
    "    data = namedtuple('data', ['filename', 'object'])\n",
    "    gb = df.groupby(group)\n",
    "    return [data(filename, gb.get_group(x)) for filename, x in zip(gb.groups.keys(), gb.groups)]"
   ]
  },
  {
   "cell_type": "code",
   "execution_count": null,
   "metadata": {
    "execution": {
     "iopub.execute_input": "2021-06-14T10:39:28.711416Z",
     "iopub.status.busy": "2021-06-14T10:39:28.710802Z",
     "iopub.status.idle": "2021-06-14T10:39:28.722261Z",
     "shell.execute_reply": "2021-06-14T10:39:28.721277Z",
     "shell.execute_reply.started": "2021-06-14T10:39:28.711378Z"
    }
   },
   "outputs": [],
   "source": [
    "def create_tf_example(group, path):\n",
    "    with tf.io.gfile.GFile(os.path.join(path, '{}'.format(group.filename + '.jpg')), 'rb') as fid:\n",
    "        encoded_jpg = fid.read()\n",
    "    encoded_jpg_io = io.BytesIO(encoded_jpg)\n",
    "    image = Image.open(encoded_jpg_io)\n",
    "    width, height = image.size\n",
    "\n",
    "    filename = group.filename.encode('utf8')\n",
    "    image_format = b'jpg'\n",
    "    xmins = []\n",
    "    xmaxs = []\n",
    "    ymins = []\n",
    "    ymaxs = []\n",
    "    classes_text = []\n",
    "    classes = []\n",
    "\n",
    "    for index, row in group.object.iterrows():\n",
    "        xmins.append(row['xmin'])\n",
    "        xmaxs.append(row['xmax'])\n",
    "        ymins.append(row['ymin'])\n",
    "        ymaxs.append(row['ymax'])\n",
    "        classes_text.append(row['class'].encode('utf8'))\n",
    "        classes.append(row['class_num'])\n",
    "\n",
    "    tf_example = tf.train.Example(features=tf.train.Features(feature={\n",
    "        #'image/height': dataset_util.int64_feature(height),\n",
    "        #'image/width': dataset_util.int64_feature(width),\n",
    "        'image/filename': dataset_util.bytes_feature(filename),\n",
    "        #'image/source_id': dataset_util.bytes_feature(filename),\n",
    "        'image/encoded': dataset_util.bytes_feature(encoded_jpg),\n",
    "        'image/format': dataset_util.bytes_feature(image_format),\n",
    "        'image/object/bbox/xmin': dataset_util.float_list_feature(xmins),\n",
    "        'image/object/bbox/xmax': dataset_util.float_list_feature(xmaxs),\n",
    "        'image/object/bbox/ymin': dataset_util.float_list_feature(ymins),\n",
    "        'image/object/bbox/ymax': dataset_util.float_list_feature(ymaxs),\n",
    "        'image/object/class/text': dataset_util.bytes_list_feature(classes_text),\n",
    "        'image/object/class/label': dataset_util.int64_list_feature(classes),\n",
    "    }))\n",
    "    return tf_example"
   ]
  },
  {
   "cell_type": "code",
   "execution_count": null,
   "metadata": {
    "execution": {
     "iopub.execute_input": "2021-06-14T10:39:28.724315Z",
     "iopub.status.busy": "2021-06-14T10:39:28.723667Z",
     "iopub.status.idle": "2021-06-14T10:39:34.298858Z",
     "shell.execute_reply": "2021-06-14T10:39:34.297944Z",
     "shell.execute_reply.started": "2021-06-14T10:39:28.724276Z"
    }
   },
   "outputs": [],
   "source": [
    "df_to_dirnames_dict = {'train': train_df, 'validation': val_df}\n",
    "\n",
    "dir_path = './dataset/'\n",
    "for dirname in next(os.walk(dir_path))[1]:\n",
    "    # if dirname != 'test':\n",
    "    writer = tf.io.TFRecordWriter(f'tfrecord_{dirname}.tfrec')\n",
    "    path = os.path.join(dir_path, dirname)\n",
    "    examples = df_to_dirnames_dict[dirname]\n",
    "    grouped = split(examples, 'id')\n",
    "    for group in grouped:\n",
    "        tf_example = create_tf_example(group, path)\n",
    "        writer.write(tf_example.SerializeToString())\n",
    "    writer.close()"
   ]
  },
  {
   "cell_type": "code",
   "execution_count": null,
   "metadata": {
    "execution": {
     "iopub.execute_input": "2021-06-14T10:39:34.300642Z",
     "iopub.status.busy": "2021-06-14T10:39:34.300282Z",
     "iopub.status.idle": "2021-06-14T10:39:35.581329Z",
     "shell.execute_reply": "2021-06-14T10:39:35.580359Z",
     "shell.execute_reply.started": "2021-06-14T10:39:34.300605Z"
    }
   },
   "outputs": [],
   "source": [
    "!mkdir pre-trained-models\n",
    "!mkdir models/my_ssd_resnet50_v1_fpn"
   ]
  },
  {
   "cell_type": "code",
   "execution_count": null,
   "metadata": {
    "execution": {
     "iopub.status.busy": "2021-06-14T10:36:45.132076Z",
     "iopub.status.idle": "2021-06-14T10:36:45.132789Z"
    }
   },
   "outputs": [],
   "source": [
    "!wget http://download.tensorflow.org/models/object_detection/tf2/20200711/ssd_resnet50_v1_fpn_640x640_coco17_tpu-8.tar.gz  \n",
    "!tar xvf ssd_resnet50_v1_fpn_640x640_coco17_tpu-8.tar.gz --directory=pre-trained-models\n",
    "\n",
    "%cd ~\n",
    "# !cp /kaggle/input/tfodpipelineconfig/pipeline.config /kaggle/working/models/my_ssd_resnet50_v1_fpn"
   ]
  },
  {
   "cell_type": "code",
   "execution_count": null,
   "metadata": {
    "execution": {
     "iopub.status.busy": "2021-06-14T10:36:45.134022Z",
     "iopub.status.idle": "2021-06-14T10:36:45.134648Z"
    }
   },
   "outputs": [],
   "source": [
    "!cp /kaggle/working/models/research/object_detection/model_main_tf2.py /kaggle/working/\n",
    "%cd /kaggle/working/\n",
    "!python model_main_tf2.py --model_dir=models/my_ssd_resnet50_v1_fpn --pipeline_config_path=models/my_ssd_resnet50_v1_fpn/pipeline.config"
   ]
  },
  {
   "cell_type": "markdown",
   "metadata": {},
   "source": [
    "# Appendix"
   ]
  },
  {
   "cell_type": "markdown",
   "metadata": {},
   "source": [
    "# Write all jpg's into a single 'dataset' numpy array"
   ]
  },
  {
   "cell_type": "code",
   "execution_count": null,
   "metadata": {
    "execution": {
     "iopub.status.busy": "2021-06-14T10:36:45.136199Z",
     "iopub.status.idle": "2021-06-14T10:36:45.136757Z"
    }
   },
   "outputs": [],
   "source": [
    "# dataset = np.ndarray(shape=(len(train_image), 1, 256, 256), dtype=np.float32)\n",
    "\n",
    "# for dirname, _, filenames in os.walk('../input/siim-covid19-resized-to-256px-jpg/train'):\n",
    "#     i = 0\n",
    "#     for filename in filenames:\n",
    "#         path = os.path.join(dirname, filename)\n",
    "#         img= Image.open(path)  \n",
    "#         np_arr_image = np.array(img)\n",
    "#         dataset[i] = np_arr_image\n",
    "#         i += 1\n",
    "        \n",
    "#         if i % 500 == 0:\n",
    "#             print(f\"{i} images added to dataset\")\n",
    "#     print(\"All images added to dataset!\")"
   ]
  },
  {
   "cell_type": "code",
   "execution_count": null,
   "metadata": {
    "execution": {
     "iopub.status.busy": "2021-06-14T10:36:45.137958Z",
     "iopub.status.idle": "2021-06-14T10:36:45.138578Z"
    }
   },
   "outputs": [],
   "source": [
    "# dataset.shape"
   ]
  },
  {
   "cell_type": "code",
   "execution_count": 4,
   "metadata": {},
   "outputs": [],
   "source": [
    "!pip freeze > requirements.txt"
   ]
  }
 ],
 "metadata": {
  "kernelspec": {
   "display_name": "Python 3",
   "language": "python",
   "name": "python3"
  },
  "language_info": {
   "codemirror_mode": {
    "name": "ipython",
    "version": 3
   },
   "file_extension": ".py",
   "mimetype": "text/x-python",
   "name": "python",
   "nbconvert_exporter": "python",
   "pygments_lexer": "ipython3",
   "version": "3.8.5"
  }
 },
 "nbformat": 4,
 "nbformat_minor": 4
}
